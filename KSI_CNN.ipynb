{
 "cells": [
  {
   "cell_type": "code",
   "execution_count": 1,
   "metadata": {},
   "outputs": [],
   "source": [
    "import torch\n",
    "import torch.nn.functional as F\n",
    "import torch.nn as nn\n",
    "import torch.optim as optim\n",
    "from torch.utils.data import DataLoader\n",
    "import numpy as np\n",
    "from sklearn.metrics import roc_auc_score, f1_score\n",
    "from torchinfo import summary"
   ]
  },
  {
   "cell_type": "code",
   "execution_count": 2,
   "metadata": {},
   "outputs": [],
   "source": [
    "dir = 'data/original/'\n",
    "training_data=np.load(f'{dir}training_data.npy', allow_pickle=True)\n",
    "test_data=np.load(f'{dir}test_data.npy', allow_pickle=True)\n",
    "val_data=np.load(f'{dir}val_data.npy', allow_pickle=True)\n",
    "word_to_ix=np.load(f'{dir}word_to_ix.npy', allow_pickle=True).item() # words (in notes) to index\n",
    "ix_to_word=np.load(f'{dir}ix_to_word.npy', allow_pickle=True).item() # index to words (in notes). not strictly needed for model\n",
    "wikivec=np.load(f'{dir}newwikivec.npy', allow_pickle=True) # wiki article embeddings (# codes with wiki articles, vocab size)\n",
    "wikivoc=np.load(f'{dir}wikivoc.npy', allow_pickle=True).item() # ICD-9 codes with wiki articles. not strictly needed for model"
   ]
  },
  {
   "cell_type": "code",
   "execution_count": 3,
   "metadata": {},
   "outputs": [],
   "source": [
    "n_wiki, n_vocab = wikivec.shape\n",
    "n_words = len(word_to_ix)\n",
    "n_embedding = 100\n",
    "batch_size = 32\n",
    "test_batch_size = 32\n",
    "DEVICE = torch.device(\"cuda\" if torch.cuda.is_available() else \"cpu\")\n",
    "\n",
    "wikivec = torch.FloatTensor(wikivec).to(DEVICE) # wikivec is a model input for KSI"
   ]
  },
  {
   "cell_type": "code",
   "execution_count": 4,
   "metadata": {},
   "outputs": [],
   "source": [
    "def collate_fn(block):\n",
    "    block_size = len(block)\n",
    "    max_words = np.max([len(i[0]) for i in block])\n",
    "    mat = np.zeros((block_size, max_words), dtype=int)\n",
    "    for i in range(block_size):\n",
    "        for j in range(max_words):\n",
    "            try:\n",
    "                if block[i][0][j] in word_to_ix:\n",
    "                    mat[i,j] = word_to_ix[block[i][0][j]]\n",
    "            except IndexError:\n",
    "                pass\n",
    "    mat = torch.from_numpy(mat)\n",
    "    embeddings = torch.FloatTensor(np.array([x for _, x, _ in block]))\n",
    "    labels = torch.FloatTensor(np.array([y for _, _, y in block]))\n",
    "    return mat, embeddings, labels"
   ]
  },
  {
   "cell_type": "code",
   "execution_count": 5,
   "metadata": {},
   "outputs": [],
   "source": [
    "train_dataloader = DataLoader(training_data, collate_fn=collate_fn, batch_size=batch_size)\n",
    "val_dataloader = DataLoader(val_data, collate_fn=collate_fn, batch_size=test_batch_size)\n",
    "test_dataloader = DataLoader(test_data, collate_fn=collate_fn, batch_size=test_batch_size)"
   ]
  },
  {
   "cell_type": "code",
   "execution_count": 18,
   "metadata": {},
   "outputs": [],
   "source": [
    "class KSI(nn.Module):\n",
    "    def __init__(self, n_ksi_embedding, n_vocab):\n",
    "        super().__init__()\n",
    "        self.ksi_embedding = nn.Linear(n_vocab, n_ksi_embedding)\n",
    "        self.ksi_attention = nn.Linear(n_ksi_embedding, n_ksi_embedding)\n",
    "        self.ksi_output = nn.Linear(n_ksi_embedding, 1)\n",
    "        \n",
    "    def forward_ksi(self, notevec, wikivec):\n",
    "        with torch.profiler.record_function(\"KSI Forward\"):\n",
    "            n = notevec.shape[0]\n",
    "            n_codes = wikivec.shape[0]\n",
    "            notevec = notevec.unsqueeze(1).expand(n, n_codes, -1)\n",
    "            wikivec = wikivec.unsqueeze(0)\n",
    "        \n",
    "            z = torch.mul(wikivec, notevec)\n",
    "            e = self.ksi_embedding(z)\n",
    "            attention_scores = torch.sigmoid(self.ksi_attention(e))\n",
    "            v = torch.mul(attention_scores, e)\n",
    "            s = self.ksi_output(v)\n",
    "            o = s.squeeze(2)\n",
    "        \n",
    "        return o\n",
    "    \n",
    "    \n",
    "class ModifiedKSI(nn.Module):\n",
    "    \"\"\"Use weighted sum of note and wiki vectors instead of vector intersection\"\"\"\n",
    "    def __init__(self, n_ksi_embedding, n_vocab):\n",
    "        super().__init__()\n",
    "        self.weights = nn.Linear(2, 1, bias=False)\n",
    "        self.ksi_embedding = nn.Linear(n_vocab, n_ksi_embedding)\n",
    "        self.ksi_attention = nn.Linear(n_ksi_embedding, n_ksi_embedding)\n",
    "        self.ksi_output = nn.Linear(n_ksi_embedding, 1)\n",
    "        \n",
    "    def forward_ksi(self, notevec, wikivec):\n",
    "        with torch.profiler.record_function(\"Modified KSI Forward\"):\n",
    "            n = notevec.shape[0]\n",
    "            n_codes = wikivec.shape[0]\n",
    "            notevec = notevec.unsqueeze(1).expand(n, n_codes, -1)\n",
    "            wikivec = wikivec.unsqueeze(0).expand(n, n_codes, -1)\n",
    "        \n",
    "            z = self.weights(torch.stack([notevec, wikivec], dim=-1)).squeeze()\n",
    "            e = self.ksi_embedding(z)\n",
    "            attention_scores = torch.sigmoid(self.ksi_attention(e))\n",
    "            v = torch.mul(attention_scores, e)\n",
    "            s = self.ksi_output(v)\n",
    "            o = s.squeeze(2)\n",
    "        \n",
    "        return o\n",
    "\n",
    "\n",
    "class CNN(nn.Module):\n",
    "    def __init__(self, n_words, n_wiki, n_embedding, ksi=None, **kwargs):\n",
    "        super().__init__(**kwargs)\n",
    "        self.ksi = ksi\n",
    "        self.word_embeddings = nn.Embedding(n_words+1, n_embedding)\n",
    "        self.dropout_embedding = nn.Dropout(p=0.2)\n",
    "        self.conv1 = nn.Conv1d(n_embedding, 100, 3)\n",
    "        self.conv2 = nn.Conv1d(n_embedding, 100, 4)\n",
    "        self.conv3 = nn.Conv1d(n_embedding, 100, 5)\n",
    "        self.output = nn.Linear(n_embedding*3, n_wiki)\n",
    "    \n",
    "    def forward(self, note, notevec=None, wikivec=None):\n",
    "        # batch_size, n = note.shape\n",
    "        with torch.profiler.record_function(\"CNN Embedding\"):\n",
    "            embeddings = self.word_embeddings(note) # (batch_size, n, n_embedding)\n",
    "            embeddings = self.dropout_embedding(embeddings)\n",
    "            embeddings = embeddings.permute(0, 2, 1) # (batch_size, n_embedding, n)\n",
    "        \n",
    "        with torch.profiler.record_function(\"CNN Forward\"):\n",
    "            a1 = F.relu(self.conv1(embeddings))\n",
    "            a1 = F.max_pool1d(a1, a1.shape[2])\n",
    "            a2 = F.relu(self.conv2(embeddings))\n",
    "            a2 = F.max_pool1d(a2, a2.shape[2])\n",
    "            a3 = F.relu(self.conv3(embeddings))\n",
    "            a3 = F.max_pool1d(a3, a3.shape[2])\n",
    "            combined = torch.cat([a1, a2, a3], 1).squeeze(2)\n",
    "       \n",
    "            out = self.output(combined)\n",
    "        if self.ksi:\n",
    "            out += self.ksi.forward_ksi(notevec, wikivec)\n",
    "        \n",
    "        scores = torch.sigmoid(out)\n",
    "        return scores"
   ]
  },
  {
   "cell_type": "code",
   "execution_count": 21,
   "metadata": {},
   "outputs": [],
   "source": [
    "def train(model, dataloader, loss_function, wikivec=None, optimizer=None, profiler=None, scheduler=None):\n",
    "    for data in dataloader:\n",
    "        optimizer.zero_grad()\n",
    "        note, embeddings, labels = data\n",
    "        note = note.to(DEVICE)\n",
    "        embeddings = embeddings.to(DEVICE)\n",
    "        labels = labels.to(DEVICE)\n",
    "        scores = model(note, embeddings, wikivec)\n",
    "        loss = loss_function(scores, labels)\n",
    "        loss.backward()\n",
    "        optimizer.step()\n",
    "        if scheduler:\n",
    "            scheduler.step()\n",
    "        if profiler:\n",
    "            profiler.step()\n",
    "\n",
    "        \n",
    "def test(model, dataloader, wikivec=None, threshold=0.5, k=10, by_label=False):\n",
    "    y = []\n",
    "    yhat = []\n",
    "    recall = []\n",
    "    for data in dataloader:\n",
    "        note, embeddings, labels = data\n",
    "        note = note.to(DEVICE)\n",
    "        embeddings = embeddings.to(DEVICE)\n",
    "        out = model(note, embeddings, wikivec).cpu().detach().numpy()\n",
    "        labels = labels.cpu().detach().numpy()\n",
    "        y.append(labels)\n",
    "        yhat.append(out)\n",
    "        \n",
    "    y = np.concatenate(y)\n",
    "    yhat = np.concatenate(yhat)\n",
    "    preds = np.array(yhat > threshold, dtype=float)\n",
    "    for i in range(yhat.shape[0]):\n",
    "        n_labels = int(y[i, :].sum())\n",
    "        topk = max(k, n_labels)\n",
    "        ind_topk = np.argpartition(yhat[i, :], -topk)[-topk:]\n",
    "        recall.append(y[i, ind_topk].sum() / n_labels if n_labels > 0 else np.nan)\n",
    "    \n",
    "    # compute macro AUC by label frequency group\n",
    "    label_freq_aucs = None\n",
    "    if by_label:\n",
    "        code_frequencies = y.sum(axis=0)\n",
    "        bin_10 = np.argwhere((code_frequencies <= 10) & (code_frequencies > 0)).squeeze()\n",
    "        bin_50 = np.argwhere((code_frequencies <= 50) & (code_frequencies > 10)).squeeze()\n",
    "        bin_100 = np.argwhere((code_frequencies <= 100) & (code_frequencies > 50)).squeeze()\n",
    "        bin_500 = np.argwhere((code_frequencies <= 500) & (code_frequencies > 100)).squeeze()\n",
    "        bin_remaining = np.argwhere(code_frequencies > 500).squeeze()\n",
    "        label_freq_aucs = {}\n",
    "        label_freq_aucs['1-10'] = roc_auc_score(y[:, bin_10], yhat[:, bin_10], average='macro')\n",
    "        label_freq_aucs['11-50'] = roc_auc_score(y[:, bin_50], yhat[:, bin_50], average='macro')\n",
    "        label_freq_aucs['51-100'] = roc_auc_score(y[:, bin_100], yhat[:, bin_100], average='macro')\n",
    "        label_freq_aucs['101-500'] = roc_auc_score(y[:, bin_500], yhat[:, bin_500], average='macro')\n",
    "        label_freq_aucs['>500'] = roc_auc_score(y[:, bin_remaining], yhat[:, bin_remaining], average='macro')\n",
    "            \n",
    "    # compute overall metrics\n",
    "    mask = np.sum(y, axis=0) > 0 # mask out classes without both positive and negative examples\n",
    "    recall = np.nanmean(recall)\n",
    "    micro_f1 = f1_score(y[:, mask], preds[:, mask], average='micro')\n",
    "    macro_f1 = f1_score(y[:, mask], preds[:, mask], average='macro')\n",
    "    micro_auc = roc_auc_score(y[:, mask], yhat[:, mask], average='micro')\n",
    "    macro_auc = roc_auc_score(y[:, mask], yhat[:, mask], average='macro')\n",
    "    return recall, micro_f1, macro_f1, micro_auc, macro_auc, label_freq_aucs\n",
    "\n",
    "\n",
    "def train_model(model, n_epochs=10, profile=False, log_path='./log'):\n",
    "    loss_function = nn.BCELoss()\n",
    "    optimizer = optim.Adam(model.parameters())\n",
    "    scheduler = optim.lr_scheduler.OneCycleLR(optimizer, max_lr=0.1, steps_per_epoch=len(train_dataloader), epochs=n_epochs)\n",
    "    if profile: \n",
    "        with torch.profiler.profile(activities=[\n",
    "                torch.profiler.ProfilerActivity.CPU,\n",
    "                torch.profiler.ProfilerActivity.CUDA,\n",
    "            ], profile_memory=True, use_cuda=True, on_trace_ready=torch.profiler.tensorboard_trace_handler(log_path)) as prof:\n",
    "            for epoch in range(n_epochs):\n",
    "                train(model, train_dataloader, loss_function, wikivec=wikivec, optimizer=optimizer, profiler=prof, scheduler=scheduler)\n",
    "                t_recall_at_k, t_micro_f1, t_macro_f1, t_micro_auc, t_macro_auc, _ = test(model, train_dataloader, wikivec)\n",
    "                v_recall_at_k, v_micro_f1, v_macro_f1, v_micro_auc, v_macro_auc, _ = test(model, val_dataloader, wikivec)\n",
    "                print(f'Epoch: {epoch+1:03d}, Train Recall@10: {t_recall_at_k:.4f}, Val Recall@10: {v_recall_at_k:.4f}' + \n",
    "                    f', Train Micro F1: {t_micro_f1:.4f}, Val Micro F1: {v_micro_f1:.4f}' +\n",
    "                    f', Train Macro F1: {t_macro_f1:.4f}, Val Macro F1: {v_macro_f1:.4f}' +\n",
    "                    f', Train Micro AUC: {t_micro_auc:.4f}, Val Micro AUC: {v_micro_auc:.4f}' +\n",
    "                    f', Train Macro AUC: {t_macro_auc:.4f}, Val Macro AUC: {v_macro_auc:.4f}')\n",
    "    else: \n",
    "        for epoch in range(n_epochs):\n",
    "            train(model, train_dataloader, loss_function, wikivec=wikivec, optimizer=optimizer, profiler=None, scheduler=scheduler)\n",
    "            t_recall_at_k, t_micro_f1, t_macro_f1, t_micro_auc, t_macro_auc, _ = test(model, train_dataloader, wikivec)\n",
    "            v_recall_at_k, v_micro_f1, v_macro_f1, v_micro_auc, v_macro_auc, _ = test(model, val_dataloader, wikivec)\n",
    "            print(f'Epoch: {epoch+1:03d}, Train Recall@10: {t_recall_at_k:.4f}, Val Recall@10: {v_recall_at_k:.4f}' + \n",
    "                f', Train Micro F1: {t_micro_f1:.4f}, Val Micro F1: {v_micro_f1:.4f}' +\n",
    "                f', Train Macro F1: {t_macro_f1:.4f}, Val Macro F1: {v_macro_f1:.4f}' +\n",
    "                f', Train Micro AUC: {t_micro_auc:.4f}, Val Micro AUC: {v_micro_auc:.4f}' +\n",
    "                f', Train Macro AUC: {t_macro_auc:.4f}, Val Macro AUC: {v_macro_auc:.4f}')\n",
    "    return prof if prof else None"
   ]
  },
  {
   "cell_type": "code",
   "execution_count": 8,
   "metadata": {},
   "outputs": [],
   "source": [
    "# note_lengths = []\n",
    "# for data in train_dataloader:\n",
    "#     n, _, _ = data\n",
    "#     note_lengths.append(n.shape[1])\n",
    "# avg_note_size = np.round(np.array(note_lengths).mean()).astype(int)\n",
    "\n",
    "avg_note_size = 2455"
   ]
  },
  {
   "cell_type": "code",
   "execution_count": 9,
   "metadata": {},
   "outputs": [],
   "source": [
    "n_epochs = 10\n",
    "save = True\n",
    "profile = False"
   ]
  },
  {
   "cell_type": "code",
   "execution_count": 10,
   "metadata": {},
   "outputs": [
    {
     "data": {
      "text/plain": [
       "==========================================================================================\n",
       "Layer (type:depth-idx)                   Output Shape              Param #\n",
       "==========================================================================================\n",
       "CNN                                      --                        --\n",
       "├─Embedding: 1-1                         [32, 2455, 100]           4,796,200\n",
       "├─Dropout: 1-2                           [32, 2455, 100]           --\n",
       "├─Conv1d: 1-3                            [32, 100, 2453]           30,100\n",
       "├─Conv1d: 1-4                            [32, 100, 2452]           40,100\n",
       "├─Conv1d: 1-5                            [32, 100, 2451]           50,100\n",
       "├─Linear: 1-6                            [32, 344]                 103,544\n",
       "==========================================================================================\n",
       "Total params: 5,020,044\n",
       "Trainable params: 5,020,044\n",
       "Non-trainable params: 0\n",
       "Total mult-adds (G): 9.60\n",
       "==========================================================================================\n",
       "Input size (MB): 1.87\n",
       "Forward/backward pass size (MB): 251.25\n",
       "Params size (MB): 20.08\n",
       "Estimated Total Size (MB): 273.20\n",
       "=========================================================================================="
      ]
     },
     "execution_count": 10,
     "metadata": {},
     "output_type": "execute_result"
    }
   ],
   "source": [
    "base_model = CNN(n_words, n_wiki, n_embedding)\n",
    "base_model = base_model.to(DEVICE)\n",
    "base_summary = summary(base_model, [(batch_size, avg_note_size), (batch_size, n_vocab)], dtypes=[torch.int, torch.float])\n",
    "\n",
    "base_summary"
   ]
  },
  {
   "cell_type": "code",
   "execution_count": 11,
   "metadata": {},
   "outputs": [
    {
     "name": "stdout",
     "output_type": "stream",
     "text": [
      "Epoch: 001, Train Recall@10: 0.6853, Val Recall@10: 0.6770, Train Micro F1: 0.5554, Val Micro F1: 0.5435, Train Macro F1: 0.0781, Val Macro F1: 0.0910, Train Micro AUC: 0.9592, Val Micro AUC: 0.9470, Train Macro AUC: 0.7425, Val Macro AUC: 0.7196\n",
      "Epoch: 002, Train Recall@10: 0.7393, Val Recall@10: 0.7216, Train Micro F1: 0.5910, Val Micro F1: 0.5717, Train Macro F1: 0.1092, Val Macro F1: 0.1223, Train Micro AUC: 0.9720, Val Micro AUC: 0.9589, Train Macro AUC: 0.8700, Val Macro AUC: 0.7813\n",
      "Epoch: 003, Train Recall@10: 0.7611, Val Recall@10: 0.7345, Train Micro F1: 0.6174, Val Micro F1: 0.5895, Train Macro F1: 0.1453, Val Macro F1: 0.1409, Train Micro AUC: 0.9762, Val Micro AUC: 0.9614, Train Macro AUC: 0.9165, Val Macro AUC: 0.7954\n",
      "Epoch: 004, Train Recall@10: 0.7750, Val Recall@10: 0.7398, Train Micro F1: 0.6337, Val Micro F1: 0.5960, Train Macro F1: 0.1838, Val Macro F1: 0.1534, Train Micro AUC: 0.9788, Val Micro AUC: 0.9614, Train Macro AUC: 0.9346, Val Macro AUC: 0.7901\n",
      "Epoch: 005, Train Recall@10: 0.7842, Val Recall@10: 0.7374, Train Micro F1: 0.6489, Val Micro F1: 0.6003, Train Macro F1: 0.2404, Val Macro F1: 0.1652, Train Micro AUC: 0.9806, Val Micro AUC: 0.9613, Train Macro AUC: 0.9437, Val Macro AUC: 0.7777\n",
      "Epoch: 006, Train Recall@10: 0.7905, Val Recall@10: 0.7369, Train Micro F1: 0.6574, Val Micro F1: 0.6037, Train Macro F1: 0.2918, Val Macro F1: 0.1699, Train Micro AUC: 0.9820, Val Micro AUC: 0.9609, Train Macro AUC: 0.9507, Val Macro AUC: 0.7777\n",
      "Epoch: 007, Train Recall@10: 0.8014, Val Recall@10: 0.7382, Train Micro F1: 0.6644, Val Micro F1: 0.5985, Train Macro F1: 0.3405, Val Macro F1: 0.1719, Train Micro AUC: 0.9831, Val Micro AUC: 0.9602, Train Macro AUC: 0.9546, Val Macro AUC: 0.7733\n",
      "Epoch: 008, Train Recall@10: 0.8078, Val Recall@10: 0.7382, Train Micro F1: 0.6776, Val Micro F1: 0.5989, Train Macro F1: 0.3841, Val Macro F1: 0.1721, Train Micro AUC: 0.9838, Val Micro AUC: 0.9591, Train Macro AUC: 0.9568, Val Macro AUC: 0.7630\n",
      "Epoch: 009, Train Recall@10: 0.8138, Val Recall@10: 0.7353, Train Micro F1: 0.6833, Val Micro F1: 0.6019, Train Macro F1: 0.4119, Val Macro F1: 0.1801, Train Micro AUC: 0.9847, Val Micro AUC: 0.9585, Train Macro AUC: 0.9605, Val Macro AUC: 0.7548\n",
      "Epoch: 010, Train Recall@10: 0.8179, Val Recall@10: 0.7368, Train Micro F1: 0.6891, Val Micro F1: 0.5959, Train Macro F1: 0.4348, Val Macro F1: 0.1830, Train Micro AUC: 0.9853, Val Micro AUC: 0.9575, Train Macro AUC: 0.9628, Val Macro AUC: 0.7629\n"
     ]
    }
   ],
   "source": [
    "prof_base = train_model(base_model, n_epochs=n_epochs, profile=profile, log_path='./log/CNN')"
   ]
  },
  {
   "cell_type": "code",
   "execution_count": 12,
   "metadata": {},
   "outputs": [],
   "source": [
    "if save:\n",
    "    torch.save(base_model, f'{dir}CNN_model.pt')\n",
    "if profile:\n",
    "    print(prof_base.key_averages(group_by_stack_n=5).table(sort_by='self_cuda_time_total'))"
   ]
  },
  {
   "cell_type": "code",
   "execution_count": 59,
   "metadata": {},
   "outputs": [
    {
     "name": "stdout",
     "output_type": "stream",
     "text": [
      "Test Recall@10: 0.7305, Test Micro F1: 0.5930, Test Macro F1: 0.1729, Test Micro AUC: 0.9583, Test Macro AUC: 0.7544\n"
     ]
    }
   ],
   "source": [
    "tt_recall_at_k, tt_micro_f1, tt_macro_f1, tt_micro_auc, tt_macro_auc, label_aucs_base = test(base_model, \n",
    "                                                                                             test_dataloader, \n",
    "                                                                                             wikivec,\n",
    "                                                                                             by_label=True)\n",
    "print(f'Test Recall@10: {tt_recall_at_k:.4f}, Test Micro F1: {tt_micro_f1:.4f}, Test Macro F1: {tt_macro_f1:.4f}' +\n",
    "      f', Test Micro AUC: {tt_micro_auc:.4f}, Test Macro AUC: {tt_macro_auc:.4f}')\n",
    "del base_model"
   ]
  },
  {
   "cell_type": "code",
   "execution_count": 14,
   "metadata": {},
   "outputs": [
    {
     "data": {
      "text/plain": [
       "==========================================================================================\n",
       "Layer (type:depth-idx)                   Output Shape              Param #\n",
       "==========================================================================================\n",
       "CNN                                      --                        --\n",
       "├─KSI: 1-1                               --                        --\n",
       "│    └─Linear: 2-1                       --                        (recursive)\n",
       "│    └─Linear: 2-2                       --                        (recursive)\n",
       "│    └─Linear: 2-3                       --                        (recursive)\n",
       "├─Embedding: 1-2                         [32, 2455, 100]           4,796,200\n",
       "├─Dropout: 1-3                           [32, 2455, 100]           --\n",
       "├─Conv1d: 1-4                            [32, 100, 2453]           30,100\n",
       "├─Conv1d: 1-5                            [32, 100, 2452]           40,100\n",
       "├─Conv1d: 1-6                            [32, 100, 2451]           50,100\n",
       "├─Linear: 1-7                            [32, 344]                 103,544\n",
       "├─KSI: 1-1                               --                        --\n",
       "│    └─Linear: 2-4                       [32, 344, 100]            1,217,400\n",
       "│    └─Linear: 2-5                       [32, 344, 100]            10,100\n",
       "│    └─Linear: 2-6                       [32, 344, 1]              101\n",
       "==========================================================================================\n",
       "Total params: 6,247,645\n",
       "Trainable params: 6,247,645\n",
       "Non-trainable params: 0\n",
       "Total mult-adds (G): 9.63\n",
       "==========================================================================================\n",
       "Input size (MB): 18.62\n",
       "Forward/backward pass size (MB): 268.95\n",
       "Params size (MB): 24.99\n",
       "Estimated Total Size (MB): 312.56\n",
       "=========================================================================================="
      ]
     },
     "execution_count": 14,
     "metadata": {},
     "output_type": "execute_result"
    }
   ],
   "source": [
    "ksi = KSI(n_embedding, n_vocab)\n",
    "ksi.to(DEVICE)\n",
    "model = CNN(n_words, n_wiki, n_embedding, ksi=ksi)\n",
    "model = model.to(DEVICE)\n",
    "ksi_summary = summary(model, [(batch_size, avg_note_size), \n",
    "                              (batch_size, n_vocab),\n",
    "                              (n_wiki, n_vocab)], \n",
    "                      dtypes=[torch.int, torch.float, torch.float])\n",
    "\n",
    "ksi_summary"
   ]
  },
  {
   "cell_type": "code",
   "execution_count": 15,
   "metadata": {},
   "outputs": [
    {
     "name": "stdout",
     "output_type": "stream",
     "text": [
      "Epoch: 001, Train Recall@10: 0.7485, Val Recall@10: 0.7327, Train Micro F1: 0.5878, Val Micro F1: 0.5708, Train Macro F1: 0.1517, Val Macro F1: 0.1561, Train Micro AUC: 0.9732, Val Micro AUC: 0.9640, Train Macro AUC: 0.8508, Val Macro AUC: 0.8364\n",
      "Epoch: 002, Train Recall@10: 0.7887, Val Recall@10: 0.7621, Train Micro F1: 0.6312, Val Micro F1: 0.5991, Train Macro F1: 0.2224, Val Macro F1: 0.1994, Train Micro AUC: 0.9815, Val Micro AUC: 0.9707, Train Macro AUC: 0.9197, Val Macro AUC: 0.8554\n",
      "Epoch: 003, Train Recall@10: 0.8036, Val Recall@10: 0.7644, Train Micro F1: 0.6409, Val Micro F1: 0.5997, Train Macro F1: 0.2640, Val Macro F1: 0.2041, Train Micro AUC: 0.9840, Val Micro AUC: 0.9704, Train Macro AUC: 0.9459, Val Macro AUC: 0.8483\n",
      "Epoch: 004, Train Recall@10: 0.8112, Val Recall@10: 0.7665, Train Micro F1: 0.6523, Val Micro F1: 0.6015, Train Macro F1: 0.3080, Val Macro F1: 0.2192, Train Micro AUC: 0.9848, Val Micro AUC: 0.9690, Train Macro AUC: 0.9542, Val Macro AUC: 0.8416\n",
      "Epoch: 005, Train Recall@10: 0.8164, Val Recall@10: 0.7613, Train Micro F1: 0.6633, Val Micro F1: 0.6019, Train Macro F1: 0.3522, Val Macro F1: 0.2143, Train Micro AUC: 0.9852, Val Micro AUC: 0.9671, Train Macro AUC: 0.9586, Val Macro AUC: 0.8350\n",
      "Epoch: 006, Train Recall@10: 0.8279, Val Recall@10: 0.7572, Train Micro F1: 0.6815, Val Micro F1: 0.6049, Train Macro F1: 0.4231, Val Macro F1: 0.2400, Train Micro AUC: 0.9866, Val Micro AUC: 0.9668, Train Macro AUC: 0.9647, Val Macro AUC: 0.8232\n",
      "Epoch: 007, Train Recall@10: 0.8322, Val Recall@10: 0.7524, Train Micro F1: 0.6893, Val Micro F1: 0.6027, Train Macro F1: 0.4664, Val Macro F1: 0.2416, Train Micro AUC: 0.9870, Val Micro AUC: 0.9643, Train Macro AUC: 0.9675, Val Macro AUC: 0.8216\n",
      "Epoch: 008, Train Recall@10: 0.8319, Val Recall@10: 0.7430, Train Micro F1: 0.6856, Val Micro F1: 0.5910, Train Macro F1: 0.4775, Val Macro F1: 0.2380, Train Micro AUC: 0.9868, Val Micro AUC: 0.9614, Train Macro AUC: 0.9681, Val Macro AUC: 0.8128\n",
      "Epoch: 009, Train Recall@10: 0.8369, Val Recall@10: 0.7424, Train Micro F1: 0.6849, Val Micro F1: 0.5839, Train Macro F1: 0.4677, Val Macro F1: 0.2196, Train Micro AUC: 0.9874, Val Micro AUC: 0.9601, Train Macro AUC: 0.9704, Val Macro AUC: 0.8015\n",
      "Epoch: 010, Train Recall@10: 0.8459, Val Recall@10: 0.7425, Train Micro F1: 0.6882, Val Micro F1: 0.5761, Train Macro F1: 0.5110, Val Macro F1: 0.2198, Train Micro AUC: 0.9885, Val Micro AUC: 0.9604, Train Macro AUC: 0.9743, Val Macro AUC: 0.8064\n"
     ]
    }
   ],
   "source": [
    "prof_ksi = train_model(model, n_epochs=n_epochs, profile=profile, log_path='./log/CNN_KSI')"
   ]
  },
  {
   "cell_type": "code",
   "execution_count": 16,
   "metadata": {},
   "outputs": [],
   "source": [
    "if save:\n",
    "    torch.save(model, f'{dir}CNN_KSI_model.pt')\n",
    "if profile:\n",
    "    print(prof_ksi.key_averages(group_by_stack_n=5).table(sort_by='self_cuda_time_total'))"
   ]
  },
  {
   "cell_type": "code",
   "execution_count": 48,
   "metadata": {},
   "outputs": [
    {
     "name": "stdout",
     "output_type": "stream",
     "text": [
      "Test Recall@10: 0.7406, Test Micro F1: 0.5716, Test Macro F1: 0.2236, Test Micro AUC: 0.9607, Test Macro AUC: 0.8018\n"
     ]
    }
   ],
   "source": [
    "tt_recall_at_k, tt_micro_f1, tt_macro_f1, tt_micro_auc, tt_macro_auc, label_aucs_ksi = test(model, \n",
    "                                                                                            test_dataloader, \n",
    "                                                                                            wikivec,\n",
    "                                                                                            by_label=True)\n",
    "print(f'Test Recall@10: {tt_recall_at_k:.4f}, Test Micro F1: {tt_micro_f1:.4f}, Test Macro F1: {tt_macro_f1:.4f}' +\n",
    "      f', Test Micro AUC: {tt_micro_auc:.4f}, Test Macro AUC: {tt_macro_auc:.4f}')\n",
    "del model"
   ]
  },
  {
   "cell_type": "code",
   "execution_count": 19,
   "metadata": {},
   "outputs": [
    {
     "data": {
      "text/plain": [
       "==========================================================================================\n",
       "Layer (type:depth-idx)                   Output Shape              Param #\n",
       "==========================================================================================\n",
       "CNN                                      --                        --\n",
       "├─ModifiedKSI: 1-1                       --                        --\n",
       "│    └─Linear: 2-1                       --                        (recursive)\n",
       "│    └─Linear: 2-2                       --                        (recursive)\n",
       "│    └─Linear: 2-3                       --                        (recursive)\n",
       "│    └─Linear: 2-4                       --                        (recursive)\n",
       "├─Embedding: 1-2                         [32, 2455, 100]           4,796,200\n",
       "├─Dropout: 1-3                           [32, 2455, 100]           --\n",
       "├─Conv1d: 1-4                            [32, 100, 2453]           30,100\n",
       "├─Conv1d: 1-5                            [32, 100, 2452]           40,100\n",
       "├─Conv1d: 1-6                            [32, 100, 2451]           50,100\n",
       "├─Linear: 1-7                            [32, 344]                 103,544\n",
       "├─ModifiedKSI: 1-1                       --                        --\n",
       "│    └─Linear: 2-5                       [32, 344, 12173, 1]       2\n",
       "│    └─Linear: 2-6                       [32, 344, 100]            1,217,400\n",
       "│    └─Linear: 2-7                       [32, 344, 100]            10,100\n",
       "│    └─Linear: 2-8                       [32, 344, 1]              101\n",
       "==========================================================================================\n",
       "Total params: 6,247,647\n",
       "Trainable params: 6,247,647\n",
       "Non-trainable params: 0\n",
       "Total mult-adds (G): 9.63\n",
       "==========================================================================================\n",
       "Input size (MB): 18.62\n",
       "Forward/backward pass size (MB): 1340.95\n",
       "Params size (MB): 24.99\n",
       "Estimated Total Size (MB): 1384.57\n",
       "=========================================================================================="
      ]
     },
     "execution_count": 19,
     "metadata": {},
     "output_type": "execute_result"
    }
   ],
   "source": [
    "mod_ksi = ModifiedKSI(n_embedding, n_vocab)\n",
    "mod_ksi.to(DEVICE)\n",
    "mod_model = CNN(n_words, n_wiki, n_embedding, ksi=mod_ksi)\n",
    "mod_model = mod_model.to(DEVICE)\n",
    "mod_summary = summary(mod_model, [(batch_size, avg_note_size), \n",
    "                                  (batch_size, n_vocab),\n",
    "                                  (n_wiki, n_vocab)], \n",
    "                      dtypes=[torch.int, torch.float, torch.float])\n",
    "\n",
    "mod_summary"
   ]
  },
  {
   "cell_type": "code",
   "execution_count": 22,
   "metadata": {},
   "outputs": [
    {
     "ename": "AttributeError",
     "evalue": "'NoneType' object has no attribute 'shape'",
     "output_type": "error",
     "traceback": [
      "\u001b[1;31m---------------------------------------------------------------------------\u001b[0m",
      "\u001b[1;31mAttributeError\u001b[0m                            Traceback (most recent call last)",
      "\u001b[1;32m~\\AppData\\Local\\Temp/ipykernel_24528/1663869077.py\u001b[0m in \u001b[0;36m<module>\u001b[1;34m\u001b[0m\n\u001b[1;32m----> 1\u001b[1;33m \u001b[0mprof_mod_ksi\u001b[0m \u001b[1;33m=\u001b[0m \u001b[0mtrain_model\u001b[0m\u001b[1;33m(\u001b[0m\u001b[0mmod_model\u001b[0m\u001b[1;33m,\u001b[0m \u001b[0mn_epochs\u001b[0m\u001b[1;33m=\u001b[0m\u001b[0mn_epochs\u001b[0m\u001b[1;33m,\u001b[0m \u001b[0mprofile\u001b[0m\u001b[1;33m=\u001b[0m\u001b[0mprofile\u001b[0m\u001b[1;33m,\u001b[0m \u001b[0mlog_path\u001b[0m\u001b[1;33m=\u001b[0m\u001b[1;34m'./log/CNN_ModifiedKSI'\u001b[0m\u001b[1;33m)\u001b[0m\u001b[1;33m\u001b[0m\u001b[1;33m\u001b[0m\u001b[0m\n\u001b[0m",
      "\u001b[1;32m~\\AppData\\Local\\Temp/ipykernel_24528/3861562249.py\u001b[0m in \u001b[0;36mtrain_model\u001b[1;34m(model, n_epochs, profile, log_path)\u001b[0m\n\u001b[0;32m     85\u001b[0m         \u001b[1;32mfor\u001b[0m \u001b[0mepoch\u001b[0m \u001b[1;32min\u001b[0m \u001b[0mrange\u001b[0m\u001b[1;33m(\u001b[0m\u001b[0mn_epochs\u001b[0m\u001b[1;33m)\u001b[0m\u001b[1;33m:\u001b[0m\u001b[1;33m\u001b[0m\u001b[1;33m\u001b[0m\u001b[0m\n\u001b[0;32m     86\u001b[0m             \u001b[0mtrain\u001b[0m\u001b[1;33m(\u001b[0m\u001b[0mmodel\u001b[0m\u001b[1;33m,\u001b[0m \u001b[0mtrain_dataloader\u001b[0m\u001b[1;33m,\u001b[0m \u001b[0mloss_function\u001b[0m\u001b[1;33m,\u001b[0m \u001b[0mwikivec\u001b[0m\u001b[1;33m,\u001b[0m \u001b[0moptimizer\u001b[0m\u001b[1;33m=\u001b[0m\u001b[0moptimizer\u001b[0m\u001b[1;33m,\u001b[0m \u001b[0mprofiler\u001b[0m\u001b[1;33m=\u001b[0m\u001b[1;32mNone\u001b[0m\u001b[1;33m,\u001b[0m \u001b[0mscheduler\u001b[0m\u001b[1;33m=\u001b[0m\u001b[0mscheduler\u001b[0m\u001b[1;33m)\u001b[0m\u001b[1;33m\u001b[0m\u001b[1;33m\u001b[0m\u001b[0m\n\u001b[1;32m---> 87\u001b[1;33m             \u001b[0mt_recall_at_k\u001b[0m\u001b[1;33m,\u001b[0m \u001b[0mt_micro_f1\u001b[0m\u001b[1;33m,\u001b[0m \u001b[0mt_macro_f1\u001b[0m\u001b[1;33m,\u001b[0m \u001b[0mt_micro_auc\u001b[0m\u001b[1;33m,\u001b[0m \u001b[0mt_macro_auc\u001b[0m\u001b[1;33m,\u001b[0m \u001b[0m_\u001b[0m \u001b[1;33m=\u001b[0m \u001b[0mtest\u001b[0m\u001b[1;33m(\u001b[0m\u001b[0mmodel\u001b[0m\u001b[1;33m,\u001b[0m \u001b[0mtrain_dataloader\u001b[0m\u001b[1;33m)\u001b[0m\u001b[1;33m\u001b[0m\u001b[1;33m\u001b[0m\u001b[0m\n\u001b[0m\u001b[0;32m     88\u001b[0m             \u001b[0mv_recall_at_k\u001b[0m\u001b[1;33m,\u001b[0m \u001b[0mv_micro_f1\u001b[0m\u001b[1;33m,\u001b[0m \u001b[0mv_macro_f1\u001b[0m\u001b[1;33m,\u001b[0m \u001b[0mv_micro_auc\u001b[0m\u001b[1;33m,\u001b[0m \u001b[0mv_macro_auc\u001b[0m\u001b[1;33m,\u001b[0m \u001b[0m_\u001b[0m \u001b[1;33m=\u001b[0m \u001b[0mtest\u001b[0m\u001b[1;33m(\u001b[0m\u001b[0mmodel\u001b[0m\u001b[1;33m,\u001b[0m \u001b[0mval_dataloader\u001b[0m\u001b[1;33m)\u001b[0m\u001b[1;33m\u001b[0m\u001b[1;33m\u001b[0m\u001b[0m\n\u001b[0;32m     89\u001b[0m             print(f'Epoch: {epoch+1:03d}, Train Recall@10: {t_recall_at_k:.4f}, Val Recall@10: {v_recall_at_k:.4f}' + \n",
      "\u001b[1;32m~\\AppData\\Local\\Temp/ipykernel_24528/3861562249.py\u001b[0m in \u001b[0;36mtest\u001b[1;34m(model, dataloader, wikivec, threshold, k, by_label)\u001b[0m\n\u001b[0;32m     24\u001b[0m         \u001b[0mnote\u001b[0m \u001b[1;33m=\u001b[0m \u001b[0mnote\u001b[0m\u001b[1;33m.\u001b[0m\u001b[0mto\u001b[0m\u001b[1;33m(\u001b[0m\u001b[0mDEVICE\u001b[0m\u001b[1;33m)\u001b[0m\u001b[1;33m\u001b[0m\u001b[1;33m\u001b[0m\u001b[0m\n\u001b[0;32m     25\u001b[0m         \u001b[0membeddings\u001b[0m \u001b[1;33m=\u001b[0m \u001b[0membeddings\u001b[0m\u001b[1;33m.\u001b[0m\u001b[0mto\u001b[0m\u001b[1;33m(\u001b[0m\u001b[0mDEVICE\u001b[0m\u001b[1;33m)\u001b[0m\u001b[1;33m\u001b[0m\u001b[1;33m\u001b[0m\u001b[0m\n\u001b[1;32m---> 26\u001b[1;33m         \u001b[0mout\u001b[0m \u001b[1;33m=\u001b[0m \u001b[0mmodel\u001b[0m\u001b[1;33m(\u001b[0m\u001b[0mnote\u001b[0m\u001b[1;33m,\u001b[0m \u001b[0membeddings\u001b[0m\u001b[1;33m,\u001b[0m \u001b[0mwikivec\u001b[0m\u001b[1;33m)\u001b[0m\u001b[1;33m.\u001b[0m\u001b[0mcpu\u001b[0m\u001b[1;33m(\u001b[0m\u001b[1;33m)\u001b[0m\u001b[1;33m.\u001b[0m\u001b[0mdetach\u001b[0m\u001b[1;33m(\u001b[0m\u001b[1;33m)\u001b[0m\u001b[1;33m.\u001b[0m\u001b[0mnumpy\u001b[0m\u001b[1;33m(\u001b[0m\u001b[1;33m)\u001b[0m\u001b[1;33m\u001b[0m\u001b[1;33m\u001b[0m\u001b[0m\n\u001b[0m\u001b[0;32m     27\u001b[0m         \u001b[0mlabels\u001b[0m \u001b[1;33m=\u001b[0m \u001b[0mlabels\u001b[0m\u001b[1;33m.\u001b[0m\u001b[0mcpu\u001b[0m\u001b[1;33m(\u001b[0m\u001b[1;33m)\u001b[0m\u001b[1;33m.\u001b[0m\u001b[0mdetach\u001b[0m\u001b[1;33m(\u001b[0m\u001b[1;33m)\u001b[0m\u001b[1;33m.\u001b[0m\u001b[0mnumpy\u001b[0m\u001b[1;33m(\u001b[0m\u001b[1;33m)\u001b[0m\u001b[1;33m\u001b[0m\u001b[1;33m\u001b[0m\u001b[0m\n\u001b[0;32m     28\u001b[0m         \u001b[0my\u001b[0m\u001b[1;33m.\u001b[0m\u001b[0mappend\u001b[0m\u001b[1;33m(\u001b[0m\u001b[0mlabels\u001b[0m\u001b[1;33m)\u001b[0m\u001b[1;33m\u001b[0m\u001b[1;33m\u001b[0m\u001b[0m\n",
      "\u001b[1;32m~\\miniconda3\\envs\\deepl\\lib\\site-packages\\torch\\nn\\modules\\module.py\u001b[0m in \u001b[0;36m_call_impl\u001b[1;34m(self, *input, **kwargs)\u001b[0m\n\u001b[0;32m   1108\u001b[0m         if not (self._backward_hooks or self._forward_hooks or self._forward_pre_hooks or _global_backward_hooks\n\u001b[0;32m   1109\u001b[0m                 or _global_forward_hooks or _global_forward_pre_hooks):\n\u001b[1;32m-> 1110\u001b[1;33m             \u001b[1;32mreturn\u001b[0m \u001b[0mforward_call\u001b[0m\u001b[1;33m(\u001b[0m\u001b[1;33m*\u001b[0m\u001b[0minput\u001b[0m\u001b[1;33m,\u001b[0m \u001b[1;33m**\u001b[0m\u001b[0mkwargs\u001b[0m\u001b[1;33m)\u001b[0m\u001b[1;33m\u001b[0m\u001b[1;33m\u001b[0m\u001b[0m\n\u001b[0m\u001b[0;32m   1111\u001b[0m         \u001b[1;31m# Do not call functions when jit is used\u001b[0m\u001b[1;33m\u001b[0m\u001b[1;33m\u001b[0m\u001b[1;33m\u001b[0m\u001b[0m\n\u001b[0;32m   1112\u001b[0m         \u001b[0mfull_backward_hooks\u001b[0m\u001b[1;33m,\u001b[0m \u001b[0mnon_full_backward_hooks\u001b[0m \u001b[1;33m=\u001b[0m \u001b[1;33m[\u001b[0m\u001b[1;33m]\u001b[0m\u001b[1;33m,\u001b[0m \u001b[1;33m[\u001b[0m\u001b[1;33m]\u001b[0m\u001b[1;33m\u001b[0m\u001b[1;33m\u001b[0m\u001b[0m\n",
      "\u001b[1;32m~\\AppData\\Local\\Temp/ipykernel_24528/2695142302.py\u001b[0m in \u001b[0;36mforward\u001b[1;34m(self, note, notevec, wikivec)\u001b[0m\n\u001b[0;32m     78\u001b[0m             \u001b[0mout\u001b[0m \u001b[1;33m=\u001b[0m \u001b[0mself\u001b[0m\u001b[1;33m.\u001b[0m\u001b[0moutput\u001b[0m\u001b[1;33m(\u001b[0m\u001b[0mcombined\u001b[0m\u001b[1;33m)\u001b[0m\u001b[1;33m\u001b[0m\u001b[1;33m\u001b[0m\u001b[0m\n\u001b[0;32m     79\u001b[0m         \u001b[1;32mif\u001b[0m \u001b[0mself\u001b[0m\u001b[1;33m.\u001b[0m\u001b[0mksi\u001b[0m\u001b[1;33m:\u001b[0m\u001b[1;33m\u001b[0m\u001b[1;33m\u001b[0m\u001b[0m\n\u001b[1;32m---> 80\u001b[1;33m             \u001b[0mout\u001b[0m \u001b[1;33m+=\u001b[0m \u001b[0mself\u001b[0m\u001b[1;33m.\u001b[0m\u001b[0mksi\u001b[0m\u001b[1;33m.\u001b[0m\u001b[0mforward_ksi\u001b[0m\u001b[1;33m(\u001b[0m\u001b[0mnotevec\u001b[0m\u001b[1;33m,\u001b[0m \u001b[0mwikivec\u001b[0m\u001b[1;33m)\u001b[0m\u001b[1;33m\u001b[0m\u001b[1;33m\u001b[0m\u001b[0m\n\u001b[0m\u001b[0;32m     81\u001b[0m \u001b[1;33m\u001b[0m\u001b[0m\n\u001b[0;32m     82\u001b[0m         \u001b[0mscores\u001b[0m \u001b[1;33m=\u001b[0m \u001b[0mtorch\u001b[0m\u001b[1;33m.\u001b[0m\u001b[0msigmoid\u001b[0m\u001b[1;33m(\u001b[0m\u001b[0mout\u001b[0m\u001b[1;33m)\u001b[0m\u001b[1;33m\u001b[0m\u001b[1;33m\u001b[0m\u001b[0m\n",
      "\u001b[1;32m~\\AppData\\Local\\Temp/ipykernel_24528/2695142302.py\u001b[0m in \u001b[0;36mforward_ksi\u001b[1;34m(self, notevec, wikivec)\u001b[0m\n\u001b[0;32m     35\u001b[0m         \u001b[1;32mwith\u001b[0m \u001b[0mtorch\u001b[0m\u001b[1;33m.\u001b[0m\u001b[0mprofiler\u001b[0m\u001b[1;33m.\u001b[0m\u001b[0mrecord_function\u001b[0m\u001b[1;33m(\u001b[0m\u001b[1;34m\"Modified KSI Forward\"\u001b[0m\u001b[1;33m)\u001b[0m\u001b[1;33m:\u001b[0m\u001b[1;33m\u001b[0m\u001b[1;33m\u001b[0m\u001b[0m\n\u001b[0;32m     36\u001b[0m             \u001b[0mn\u001b[0m \u001b[1;33m=\u001b[0m \u001b[0mnotevec\u001b[0m\u001b[1;33m.\u001b[0m\u001b[0mshape\u001b[0m\u001b[1;33m[\u001b[0m\u001b[1;36m0\u001b[0m\u001b[1;33m]\u001b[0m\u001b[1;33m\u001b[0m\u001b[1;33m\u001b[0m\u001b[0m\n\u001b[1;32m---> 37\u001b[1;33m             \u001b[0mn_codes\u001b[0m \u001b[1;33m=\u001b[0m \u001b[0mwikivec\u001b[0m\u001b[1;33m.\u001b[0m\u001b[0mshape\u001b[0m\u001b[1;33m[\u001b[0m\u001b[1;36m0\u001b[0m\u001b[1;33m]\u001b[0m\u001b[1;33m\u001b[0m\u001b[1;33m\u001b[0m\u001b[0m\n\u001b[0m\u001b[0;32m     38\u001b[0m             \u001b[0mnotevec\u001b[0m \u001b[1;33m=\u001b[0m \u001b[0mnotevec\u001b[0m\u001b[1;33m.\u001b[0m\u001b[0munsqueeze\u001b[0m\u001b[1;33m(\u001b[0m\u001b[1;36m1\u001b[0m\u001b[1;33m)\u001b[0m\u001b[1;33m.\u001b[0m\u001b[0mexpand\u001b[0m\u001b[1;33m(\u001b[0m\u001b[0mn\u001b[0m\u001b[1;33m,\u001b[0m \u001b[0mn_codes\u001b[0m\u001b[1;33m,\u001b[0m \u001b[1;33m-\u001b[0m\u001b[1;36m1\u001b[0m\u001b[1;33m)\u001b[0m\u001b[1;33m\u001b[0m\u001b[1;33m\u001b[0m\u001b[0m\n\u001b[0;32m     39\u001b[0m             \u001b[0mwikivec\u001b[0m \u001b[1;33m=\u001b[0m \u001b[0mwikivec\u001b[0m\u001b[1;33m.\u001b[0m\u001b[0munsqueeze\u001b[0m\u001b[1;33m(\u001b[0m\u001b[1;36m0\u001b[0m\u001b[1;33m)\u001b[0m\u001b[1;33m.\u001b[0m\u001b[0mexpand\u001b[0m\u001b[1;33m(\u001b[0m\u001b[0mn\u001b[0m\u001b[1;33m,\u001b[0m \u001b[0mn_codes\u001b[0m\u001b[1;33m,\u001b[0m \u001b[1;33m-\u001b[0m\u001b[1;36m1\u001b[0m\u001b[1;33m)\u001b[0m\u001b[1;33m\u001b[0m\u001b[1;33m\u001b[0m\u001b[0m\n",
      "\u001b[1;31mAttributeError\u001b[0m: 'NoneType' object has no attribute 'shape'"
     ]
    }
   ],
   "source": [
    "prof_mod_ksi = train_model(mod_model, n_epochs=n_epochs, profile=profile, log_path='./log/CNN_ModifiedKSI')"
   ]
  },
  {
   "cell_type": "code",
   "execution_count": null,
   "metadata": {},
   "outputs": [],
   "source": [
    "if save:\n",
    "    torch.save(mod_model, f'{dir}CNN_ModifiedKSI_model.pt')\n",
    "if profile:\n",
    "    print(prof_mod_ksi.key_averages(group_by_stack_n=5).table(sort_by='self_cuda_time_total'))"
   ]
  },
  {
   "cell_type": "code",
   "execution_count": null,
   "metadata": {},
   "outputs": [],
   "source": [
    "tt_recall_at_k, tt_micro_f1, tt_macro_f1, tt_micro_auc, tt_macro_auc, label_aucs_mod = test(mod_model, \n",
    "                                                                                            test_dataloader, \n",
    "                                                                                            wikivec,\n",
    "                                                                                            by_label=True)\n",
    "print(f'Test Recall@10: {tt_recall_at_k:.4f}, Test Micro F1: {tt_micro_f1:.4f}, Test Macro F1: {tt_macro_f1:.4f}' +\n",
    "      f', Test Micro AUC: {tt_micro_auc:.4f}, Test Macro AUC: {tt_macro_auc:.4f}')\n",
    "del mod_model"
   ]
  },
  {
   "cell_type": "code",
   "execution_count": 67,
   "metadata": {},
   "outputs": [],
   "source": [
    "import pandas as pd\n",
    "from matplotlib import pyplot as plt\n",
    "import seaborn as sns\n"
   ]
  },
  {
   "cell_type": "code",
   "execution_count": 64,
   "metadata": {},
   "outputs": [],
   "source": [
    "label_aucs_base = pd.DataFrame.from_dict(\n",
    "    label_aucs_base, \n",
    "    orient='index', \n",
    "    columns=['macro_AUC']\n",
    "    ).reset_index().rename({'index': 'label_frequency'}, axis=1)\n",
    "label_aucs_base['model'] = 'CNN'\n",
    "\n",
    "label_aucs_ksi = pd.DataFrame.from_dict(\n",
    "    label_aucs_ksi, \n",
    "    orient='index', \n",
    "    columns=['macro_AUC']\n",
    "    ).reset_index().rename({'index': 'label_frequency'}, axis=1)\n",
    "label_aucs_ksi['model'] = 'KSI+CNN'\n",
    "\n",
    "label_aucs_mod = pd.DataFrame.from_dict(\n",
    "    label_aucs_mod, \n",
    "    orient='index', \n",
    "    columns=['macro_AUC']\n",
    "    ).reset_index().rename({'index': 'label_frequency'}, axis=1)\n",
    "label_aucs_mod['model'] = 'ModifiedKSI+CNN'\n",
    "\n",
    "label_aucs = pd.concat([label_aucs_base, label_aucs_ksi, label_aucs_mod], axis=0)"
   ]
  },
  {
   "cell_type": "code",
   "execution_count": 69,
   "metadata": {},
   "outputs": [
    {
     "data": {
      "image/png": "[encoded data removed]",
      "text/plain": [
       "<Figure size 1080x576 with 1 Axes>"
      ]
     },
     "metadata": {
      "needs_background": "light"
     },
     "output_type": "display_data"
    }
   ],
   "source": [
    "plt.figure(figsize=(15,8))\n",
    "ax = sns.barplot(x='label_frequency', y='macro_AUC', hue='model', \n",
    "                 data=label_aucs[label_aucs['model'] != 'ModifiedKSI+CNN'])\n",
    "for container in ax.containers:\n",
    "    ax.bar_label(container)"
   ]
  },
  {
   "cell_type": "code",
   "execution_count": null,
   "metadata": {},
   "outputs": [],
   "source": [
    "plt.figure(figsize=(15,8))\n",
    "ax = sns.barplot(x='label_frequency', y='macro_AUC', hue='model', \n",
    "                 data=label_aucs)\n",
    "for container in ax.containers:\n",
    "    ax.bar_label(container)"
   ]
  }
 ],
 "metadata": {
  "interpreter": {
   "hash": "57e07979f6a7af2a0b0e861d549d9c40e5b4b1911b131063753718048dd868ae"
  },
  "kernelspec": {
   "display_name": "Python 3.8.12 ('deepl')",
   "language": "python",
   "name": "python3"
  },
  "language_info": {
   "codemirror_mode": {
    "name": "ipython",
    "version": 3
   },
   "file_extension": ".py",
   "mimetype": "text/x-python",
   "name": "python",
   "nbconvert_exporter": "python",
   "pygments_lexer": "ipython3",
   "version": "3.8.12"
  },
  "orig_nbformat": 4
 },
 "nbformat": 4,
 "nbformat_minor": 2
}
