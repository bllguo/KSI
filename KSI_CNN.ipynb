{
 "cells": [
  {
   "cell_type": "code",
   "execution_count": 1,
   "metadata": {},
   "outputs": [],
   "source": [
    "import torch\n",
    "import torch.nn.functional as F\n",
    "import torch.nn as nn\n",
    "import torch.optim as optim\n",
    "from torch.utils.data import DataLoader\n",
    "import numpy as np\n",
    "torch.manual_seed(1)\n",
    "from sklearn.metrics import roc_auc_score, f1_score\n",
    "from torchinfo import summary"
   ]
  },
  {
   "cell_type": "code",
   "execution_count": 2,
   "metadata": {},
   "outputs": [],
   "source": [
    "training_data=np.load('data/training_data.npy', allow_pickle=True)\n",
    "test_data=np.load('data/test_data.npy', allow_pickle=True)\n",
    "val_data=np.load('data/val_data.npy', allow_pickle=True)\n",
    "word_to_ix=np.load('data/word_to_ix.npy', allow_pickle=True).item() # words (in notes) to index\n",
    "ix_to_word=np.load('data/ix_to_word.npy', allow_pickle=True).item() # index to words (in notes). not strictly needed for model\n",
    "wikivec=np.load('data/newwikivec.npy', allow_pickle=True) # wiki article embeddings (# codes with wiki articles, vocab size)\n",
    "wikivoc=np.load('data/wikivoc.npy', allow_pickle=True).item() # ICD-9 codes with wiki articles. not strictly needed for model"
   ]
  },
  {
   "cell_type": "code",
   "execution_count": 3,
   "metadata": {},
   "outputs": [],
   "source": [
    "n_wiki, n_vocab = wikivec.shape\n",
    "n_words = len(word_to_ix)\n",
    "n_embedding = 100\n",
    "batch_size = 32\n",
    "test_batch_size = 32\n",
    "DEVICE = torch.device(\"cuda\" if torch.cuda.is_available() else \"cpu\")\n",
    "\n",
    "wikivec = torch.FloatTensor(wikivec).to(DEVICE) # wikivec is a model input for KSI"
   ]
  },
  {
   "cell_type": "code",
   "execution_count": 4,
   "metadata": {},
   "outputs": [],
   "source": [
    "def collate_fn(block):\n",
    "    block_size = len(block)\n",
    "    max_words = np.max([len(i[0]) for i in block])\n",
    "    mat = np.zeros((block_size, max_words), dtype=int)\n",
    "    for i in range(block_size):\n",
    "        for j in range(max_words):\n",
    "            try:\n",
    "                if block[i][0][j] in word_to_ix:\n",
    "                    mat[i,j] = word_to_ix[block[i][0][j]]\n",
    "            except IndexError:\n",
    "                pass\n",
    "    mat = torch.from_numpy(mat)\n",
    "    embeddings = torch.FloatTensor(np.array([x for _, x, _ in block]))\n",
    "    labels = torch.FloatTensor(np.array([y for _, _, y in block]))\n",
    "    return mat, embeddings, labels"
   ]
  },
  {
   "cell_type": "code",
   "execution_count": 5,
   "metadata": {},
   "outputs": [],
   "source": [
    "train_dataloader = DataLoader(training_data, collate_fn=collate_fn, batch_size=batch_size)\n",
    "val_dataloader = DataLoader(val_data, collate_fn=collate_fn, batch_size=test_batch_size)\n",
    "test_dataloader = DataLoader(test_data, collate_fn=collate_fn, batch_size=test_batch_size)"
   ]
  },
  {
   "cell_type": "code",
   "execution_count": 6,
   "metadata": {},
   "outputs": [],
   "source": [
    "class KSI(nn.Module):\n",
    "    def __init__(self, n_ksi_embedding, n_vocab):\n",
    "        super().__init__()\n",
    "        self.ksi_embedding = nn.Linear(n_vocab, n_ksi_embedding)\n",
    "        self.ksi_attention = nn.Linear(n_ksi_embedding, n_ksi_embedding)\n",
    "        self.ksi_output = nn.Linear(n_ksi_embedding, 1)\n",
    "        \n",
    "    def forward_ksi(self, notevec, wikivec):\n",
    "        with torch.profiler.record_function(\"KSI Forward\"):\n",
    "            n = notevec.shape[0]\n",
    "            n_codes = wikivec.shape[0]\n",
    "            notevec = notevec.unsqueeze(1).expand(n, n_codes, -1)\n",
    "            wikivec = wikivec.unsqueeze(0)\n",
    "        \n",
    "            z = torch.mul(wikivec, notevec)\n",
    "            e = self.ksi_embedding(z)\n",
    "            attention_scores = torch.sigmoid(self.ksi_attention(e))\n",
    "            v = torch.mul(attention_scores, e)\n",
    "            s = self.ksi_output(v)\n",
    "            o = s.squeeze(2)\n",
    "        \n",
    "        return o\n",
    "\n",
    "\n",
    "class CNN(nn.Module):\n",
    "    def __init__(self, n_words, n_wiki, n_embedding, ksi=None, **kwargs):\n",
    "        super().__init__(**kwargs)\n",
    "        self.ksi = ksi\n",
    "        self.word_embeddings = nn.Embedding(n_words+1, n_embedding)\n",
    "        self.dropout_embedding = nn.Dropout(p=0.2)\n",
    "        self.conv1 = nn.Conv1d(n_embedding, 100, 3)\n",
    "        self.conv2 = nn.Conv1d(n_embedding, 100, 4)\n",
    "        self.conv3 = nn.Conv1d(n_embedding, 100, 5)\n",
    "        self.output = nn.Linear(n_embedding*3, n_wiki)\n",
    "    \n",
    "    def forward(self, note, notevec=None, wikivec=None):\n",
    "        # batch_size, n = note.shape\n",
    "        with torch.profiler.record_function(\"CNN Embedding\"):\n",
    "            embeddings = self.word_embeddings(note) # (batch_size, n, n_embedding)\n",
    "            embeddings = self.dropout_embedding(embeddings)\n",
    "            embeddings = embeddings.permute(0, 2, 1) # (batch_size, n_embedding, n)\n",
    "        \n",
    "        with torch.profiler.record_function(\"CNN Forward\"):\n",
    "            a1 = F.relu(self.conv1(embeddings))\n",
    "            a1 = F.max_pool1d(a1, a1.shape[2])\n",
    "            a2 = F.relu(self.conv2(embeddings))\n",
    "            a2 = F.max_pool1d(a2, a2.shape[2])\n",
    "            a3 = F.relu(self.conv3(embeddings))\n",
    "            a3 = F.max_pool1d(a3, a3.shape[2])\n",
    "            combined = torch.cat([a1, a2, a3], 1).squeeze(2)\n",
    "       \n",
    "            out = self.output(combined)\n",
    "        if self.ksi:\n",
    "            out += self.ksi.forward_ksi(notevec, wikivec)\n",
    "        \n",
    "        scores = torch.sigmoid(out)\n",
    "        return scores"
   ]
  },
  {
   "cell_type": "code",
   "execution_count": 7,
   "metadata": {},
   "outputs": [],
   "source": [
    "def train(model, dataloader, loss_function, optimizer, wikivec=None, profiler=None):\n",
    "    for data in dataloader:\n",
    "        optimizer.zero_grad()\n",
    "        note, embeddings, labels = data\n",
    "        note = note.to(DEVICE)\n",
    "        embeddings = embeddings.to(DEVICE)\n",
    "        labels = labels.to(DEVICE)\n",
    "        scores = model(note, embeddings, wikivec)\n",
    "        loss = loss_function(scores, labels)\n",
    "        loss.backward()\n",
    "        optimizer.step()\n",
    "        if profiler:\n",
    "            profiler.step()\n",
    "\n",
    "        \n",
    "def test(model, dataloader, wikivec=None, threshold=0.5):\n",
    "    micro_f1 = []\n",
    "    macro_f1 = []\n",
    "    micro_auc = []\n",
    "    macro_auc = []\n",
    "    weights = []\n",
    "    for data in dataloader:\n",
    "        note, embeddings, labels = data\n",
    "        note = note.to(DEVICE)\n",
    "        embeddings = embeddings.to(DEVICE)\n",
    "        out = model(note, embeddings, wikivec).cpu().detach().numpy()\n",
    "        pred = np.array(out > threshold, dtype=float)\n",
    "        labels = labels.cpu().detach().numpy()\n",
    "        \n",
    "        labeled_rows = np.sum(labels, axis=1) > 0 # exclude rows with no labels, which break sklearn metrics\n",
    "        filtered_labels = labels[labeled_rows].T\n",
    "        filtered_pred = pred[labeled_rows].T\n",
    "        filtered_scores = out[labeled_rows].T\n",
    "        \n",
    "        #TODO: recall @ k (metric used in the paper)\n",
    "        micro_f1.append(f1_score(filtered_labels, filtered_pred, average='micro'))\n",
    "        macro_f1.append(f1_score(filtered_labels, filtered_pred, average='macro'))\n",
    "        micro_auc.append(roc_auc_score(filtered_labels, filtered_scores, average='micro'))\n",
    "        macro_auc.append(roc_auc_score(filtered_labels, filtered_scores, average='macro'))\n",
    "        weights.append(len(data))\n",
    "    micro_f1 = np.average(micro_f1, weights=weights)\n",
    "    macro_f1 = np.average(macro_f1, weights=weights)\n",
    "    micro_auc = np.average(micro_auc, weights=weights)\n",
    "    macro_auc = np.average(macro_auc, weights=weights)\n",
    "    return None, micro_f1, macro_f1, micro_auc, macro_auc"
   ]
  },
  {
   "cell_type": "code",
   "execution_count": 8,
   "metadata": {},
   "outputs": [],
   "source": [
    "# note_lengths = []\n",
    "# for data in train_dataloader:\n",
    "#     n, _, _ = data\n",
    "#     note_lengths.append(n.shape[1])\n",
    "# avg_note_size = np.round(np.array(note_lengths).mean()).astype(int)\n",
    "\n",
    "avg_note_size = 2455"
   ]
  },
  {
   "cell_type": "code",
   "execution_count": 11,
   "metadata": {},
   "outputs": [
    {
     "data": {
      "text/plain": [
       "'1.11.0'"
      ]
     },
     "execution_count": 11,
     "metadata": {},
     "output_type": "execute_result"
    }
   ],
   "source": [
    "torch.__version__"
   ]
  },
  {
   "cell_type": "code",
   "execution_count": 9,
   "metadata": {},
   "outputs": [
    {
     "name": "stderr",
     "output_type": "stream",
     "text": [
      "C:\\Users\\bllgu\\miniconda3\\envs\\deepl\\lib\\site-packages\\torch\\profiler\\profiler.py:384: UserWarning: use_cuda is deprecated, use activities argument instead\n",
      "  warn(\"use_cuda is deprecated, use activities argument instead\")\n"
     ]
    },
    {
     "name": "stdout",
     "output_type": "stream",
     "text": [
      "Epoch: 001, Train Micro F1: 0.4951, Val Micro F1: 0.4903, Train Macro F1: 0.4351, Val Macro F1: 0.4276\n"
     ]
    },
    {
     "data": {
      "text/plain": [
       "==========================================================================================\n",
       "Layer (type:depth-idx)                   Output Shape              Param #\n",
       "==========================================================================================\n",
       "CNN                                      --                        --\n",
       "├─Embedding: 1-1                         [32, 2455, 100]           4,796,200\n",
       "├─Dropout: 1-2                           [32, 2455, 100]           --\n",
       "├─Conv1d: 1-3                            [32, 100, 2453]           30,100\n",
       "├─Conv1d: 1-4                            [32, 100, 2452]           40,100\n",
       "├─Conv1d: 1-5                            [32, 100, 2451]           50,100\n",
       "├─Linear: 1-6                            [32, 344]                 103,544\n",
       "==========================================================================================\n",
       "Total params: 5,020,044\n",
       "Trainable params: 5,020,044\n",
       "Non-trainable params: 0\n",
       "Total mult-adds (G): 9.60\n",
       "==========================================================================================\n",
       "Input size (MB): 1.87\n",
       "Forward/backward pass size (MB): 251.25\n",
       "Params size (MB): 20.08\n",
       "Estimated Total Size (MB): 273.20\n",
       "=========================================================================================="
      ]
     },
     "execution_count": 9,
     "metadata": {},
     "output_type": "execute_result"
    }
   ],
   "source": [
    "base_model = CNN(n_words, n_wiki, n_embedding)\n",
    "base_model = base_model.to(DEVICE)\n",
    "base_summary = summary(base_model, [(batch_size, avg_note_size), (batch_size, n_vocab)], dtypes=[torch.int, torch.float])\n",
    "loss_function = nn.BCELoss()\n",
    "optimizer = optim.Adam(base_model.parameters())\n",
    "\n",
    "with torch.profiler.profile(activities=[\n",
    "        torch.profiler.ProfilerActivity.CPU,\n",
    "        torch.profiler.ProfilerActivity.CUDA,\n",
    "    ], profile_memory=True, use_cuda=True, on_trace_ready=torch.profiler.tensorboard_trace_handler('./log/CNN')) as prof_base:\n",
    "    for epoch in range(1):\n",
    "        train(base_model, train_dataloader, loss_function, optimizer, profiler=prof_base)\n",
    "        t_recall_at_k, t_micro_f1, t_macro_f1, t_micro_auc, t_macro_auc = test(base_model, train_dataloader)\n",
    "        v_recall_at_k, v_micro_f1, v_macro_f1, v_micro_auc, v_macro_auc = test(base_model, val_dataloader)\n",
    "        print(f'Epoch: {epoch+1:03d}, Train Micro F1: {t_micro_f1:.4f}, Val Micro F1: {v_micro_f1:.4f}' +\n",
    "            f', Train Macro F1: {t_macro_f1:.4f}, Val Macro F1: {v_macro_f1:.4f}')\n",
    "    \n",
    "# torch.save(base_model, 'CNN_model.pt')\n",
    "base_summary"
   ]
  },
  {
   "cell_type": "code",
   "execution_count": 12,
   "metadata": {},
   "outputs": [
    {
     "name": "stdout",
     "output_type": "stream",
     "text": [
      "-------------------------------------------------------  ------------  ------------  ------------  ------------  ------------  ------------  ------------  ------------  ------------  ------------  ------------  ------------  ------------  ------------  \n",
      "                                                   Name    Self CPU %      Self CPU   CPU total %     CPU total  CPU time avg     Self CUDA   Self CUDA %    CUDA total  CUDA time avg       CPU Mem  Self CPU Mem      CUDA Mem  Self CUDA Mem    # of Calls  \n",
      "-------------------------------------------------------  ------------  ------------  ------------  ------------  ------------  ------------  ------------  ------------  ------------  ------------  ------------  ------------  ------------  ------------  \n",
      "                                            aten::copy_         9.23%       11.202s         9.23%       11.202s     416.998us       77.289s        50.31%       77.289s       2.877ms           0 b           0 b           0 b           0 b         26863  \n",
      "                                         aten::addcdiv_         0.09%     103.268ms         0.09%     103.268ms       9.943us       35.177s        22.90%       35.177s       3.387ms           0 b           0 b           0 b           0 b         10386  \n",
      "                             aten::convolution_backward         1.41%        1.712s         1.77%        2.144s     619.290us       13.084s         8.52%       14.538s       4.199ms           0 b           0 b     101.94 Gb    -102.47 Gb          3462  \n",
      "                                aten::cudnn_convolution         1.22%        1.486s         1.28%        1.549s     208.792us        8.006s         5.21%        8.011s       1.080ms           0 b           0 b     216.91 Gb     215.69 Gb          7419  \n",
      "                          aten::max_pool2d_with_indices         0.18%     218.279ms         0.18%     218.279ms      29.422us        5.829s         3.79%        5.829s     785.652us           0 b           0 b     271.51 Mb     271.51 Mb          7419  \n",
      "                                             aten::add_         0.30%     368.152ms         0.30%     368.152ms       9.546us        1.962s         1.28%        1.962s      50.870us           0 b           0 b           0 b           0 b         38568  \n",
      "                                             aten::mul_         0.14%     168.136ms         0.14%     168.136ms       8.094us        1.540s         1.00%        1.540s      74.152us           0 b           0 b           0 b           0 b         20772  \n",
      "                                        aten::clamp_min         0.12%     143.707ms         0.29%     352.812ms      23.778us        1.395s         0.91%        2.775s     187.023us           0 b           0 b     433.89 Gb           0 b         14838  \n",
      "                         aten::embedding_dense_backward        18.51%       22.461s        18.84%       22.855s      19.805ms        1.180s         0.77%        2.363s       2.048ms           0 b           0 b      20.62 Gb      -7.12 Gb          1154  \n",
      "                              aten::_local_scalar_dense         0.16%     193.804ms         0.16%     193.804ms      83.898us        1.078s         0.70%        1.078s     466.644us           0 b           0 b           0 b           0 b          2310  \n",
      "                               aten::threshold_backward         0.05%      64.079ms         0.05%      64.079ms      18.509us     945.019ms         0.62%     945.019ms     272.969us           0 b           0 b     101.30 Gb     101.30 Gb          3462  \n",
      "                 aten::max_pool2d_with_indices_backward         0.08%      91.853ms         0.21%     254.797ms      73.598us     823.046ms         0.54%        1.169s     337.570us           0 b           0 b     101.30 Gb     101.26 Gb          3462  \n",
      "                                              aten::add         0.03%      36.527ms         0.03%      36.527ms      15.826us     580.603ms         0.38%     580.603ms     251.561us           0 b           0 b      67.62 Gb      67.62 Gb          2308  \n",
      "                                   aten::native_dropout         0.05%      64.515ms         0.10%     125.493ms      50.745us     546.593ms         0.36%     560.946ms     226.828us           0 b           0 b      90.57 Gb           0 b          2473  \n",
      "                                     aten::index_select         0.05%      62.704ms         0.08%      99.783ms      40.349us     449.359ms         0.29%     453.523ms     183.390us           0 b           0 b      72.41 Gb           0 b          2473  \n",
      "                                              aten::sum         0.09%     110.245ms         0.10%     117.674ms      25.493us     429.247ms         0.28%     431.433ms      93.465us           0 b           0 b       3.38 Mb       3.38 Mb          4616  \n",
      "                                            aten::fill_         0.08%     103.131ms         0.08%     103.131ms       6.380us     427.528ms         0.28%     427.528ms      26.448us           0 b           0 b           0 b           0 b         16165  \n",
      "                                             aten::sqrt         0.14%     168.595ms         0.14%     168.595ms      16.233us     340.472ms         0.22%     340.472ms      32.782us           0 b           0 b      21.58 Gb      21.58 Gb         10386  \n",
      "                                              aten::div         0.24%     287.059ms         0.24%     287.059ms      27.639us     278.393ms         0.18%     278.393ms      26.805us           0 b           0 b      21.58 Gb      21.58 Gb         10386  \n",
      "                          aten::native_dropout_backward         0.02%      21.897ms         0.03%      37.221ms      32.254us     262.664ms         0.17%     266.321ms     230.781us           0 b           0 b      33.81 Gb           0 b          1154  \n",
      "                                         aten::addcmul_         0.07%      83.884ms         0.07%      83.884ms       8.077us     240.890ms         0.16%     240.890ms      23.194us           0 b           0 b           0 b           0 b         10386  \n",
      "                               Optimizer.step#Adam.step         1.07%        1.301s         1.89%        2.290s       1.985ms     129.418ms         0.08%       38.202s      33.104ms      -4.51 Kb    -500.37 Kb      38.30 Mb     -43.17 Gb          1154  \n",
      "                                     aten::_convolution         0.19%     235.777ms         1.97%        2.394s     322.668us      88.076ms         0.06%       11.385s       1.535ms           0 b           0 b     216.91 Gb    -217.18 Gb          7419  \n",
      "                                          aten::squeeze         0.18%     221.015ms         0.25%     304.353ms       7.889us      87.820ms         0.06%     112.099ms       2.906us           0 b           0 b           0 b           0 b         38578  \n",
      "                                        aten::unsqueeze         0.17%     202.430ms         0.24%     290.674ms       7.801us      84.675ms         0.06%     107.937ms       2.897us           0 b           0 b           0 b           0 b         37259  \n",
      "                                             aten::mean         0.04%      47.573ms         0.04%      50.148ms      43.456us      78.783ms         0.05%      79.546ms      68.931us           0 b           0 b     577.00 Kb     577.00 Kb          1154  \n",
      "                                       aten::empty_like         0.11%     130.557ms         0.27%     332.227ms      12.132us      64.339ms         0.04%      81.969ms       2.993us           0 b           0 b     444.17 Gb           0 b         27385  \n",
      "                                       aten::as_strided         0.11%     128.463ms         0.11%     128.463ms       2.297us      63.291ms         0.04%      63.291ms       1.132us           0 b           0 b           0 b           0 b         55916  \n",
      "                                   ConvolutionBackward0         0.03%      35.364ms         1.80%        2.179s     629.505us      62.100ms         0.04%       14.600s       4.217ms           0 b           0 b     101.94 Gb           0 b          3462  \n",
      "                                            aten::clone         0.09%     106.876ms         0.40%     486.212ms      33.899us      57.769ms         0.04%        2.934s     204.536us           0 b           0 b     318.65 Gb           0 b         14343  \n",
      "                                            aten::empty         0.29%     346.185ms         0.29%     346.185ms       7.382us      53.701ms         0.03%      53.701ms       1.145us       2.81 Mb       2.81 Mb     270.60 Gb     270.60 Gb         46897  \n",
      "                                            CNN Forward         0.60%     723.968ms         3.80%        4.612s       1.865ms      53.518ms         0.03%       18.963s       7.668ms      -9.66 Kb      -1.05 Mb     217.40 Gb    -216.91 Gb          2473  \n",
      "                                            aten::slice         0.03%      32.730ms         0.03%      40.147ms      11.596us      53.321ms         0.03%      55.478ms      16.025us           0 b           0 b           0 b           0 b          3462  \n",
      "                          aten::max_pool1d_with_indices         0.09%     103.221ms         0.44%     529.985ms      71.436us      52.126ms         0.03%        5.945s     801.299us           0 b           0 b     271.51 Mb           0 b          7419  \n",
      "                     Optimizer.zero_grad#Adam.zero_grad         0.10%     116.730ms         0.20%     243.717ms     211.193us      49.369ms         0.03%     151.713ms     131.467us      -4.51 Kb    -500.37 Kb           0 b           0 b          1154  \n",
      "                                         aten::_to_copy         0.15%     179.419ms         9.58%       11.627s     940.331us      47.263ms         0.03%       74.512s       6.026ms       3.74 Gb           0 b       4.88 Gb           0 b         12365  \n",
      "                                            aten::zeros         0.11%     130.999ms         0.20%     245.769ms      22.581us      41.163ms         0.03%     115.160ms      10.581us      38.01 Kb           0 b      20.62 Gb           0 b         10884  \n",
      "                                            aten::zero_         0.08%      91.411ms         0.15%     185.133ms       8.543us      39.529ms         0.03%     464.505ms      21.434us           0 b           0 b           0 b           0 b         21671  \n",
      "                                            aten::addmm         0.23%     273.527ms         0.24%     291.372ms     117.821us      39.246ms         0.03%      46.984ms      18.999us           0 b           0 b     103.78 Mb     103.78 Mb          2473  \n",
      "                                       aten::contiguous         0.05%      60.861ms         0.45%     547.073ms      38.142us      33.942ms         0.02%        2.968s     206.902us           0 b           0 b     318.65 Gb           0 b         14343  \n",
      "                                               aten::to         0.11%     133.758ms         9.69%       11.761s     859.467us      29.855ms         0.02%       74.542s       5.447ms       3.74 Gb           0 b       4.88 Gb           0 b         13684  \n",
      "autograd::engine::evaluate_function: struct torch::a...         0.04%      52.891ms         0.21%     257.811ms      24.823us      23.499ms         0.02%     260.216ms      25.054us           0 b           0 b     -21.56 Gb           0 b         10386  \n",
      "                 struct torch::autograd::AccumulateGrad         0.08%     101.617ms         0.17%     204.920ms      19.730us      22.911ms         0.01%     236.717ms      22.792us           0 b           0 b     -21.56 Gb     -21.56 Gb         10386  \n",
      "                                          aten::reshape         0.04%      50.899ms         0.07%      81.117ms       8.200us      22.640ms         0.01%      29.632ms       2.996us           0 b           0 b           0 b           0 b          9892  \n",
      "                             aten::binary_cross_entropy         0.04%      48.622ms         0.13%     159.938ms     138.594us      21.609ms         0.01%     121.119ms     104.956us           0 b           0 b      48.43 Mb    -577.00 Kb          1154  \n",
      "                                             aten::_cat         0.03%      41.919ms         0.05%      64.264ms      25.986us      21.016ms         0.01%      24.423ms       9.876us           0 b           0 b      90.50 Mb           0 b          2473  \n",
      "                                          CNN Embedding         0.15%     187.661ms         0.47%     572.264ms     231.405us      17.520ms         0.01%        1.070s     432.867us      -9.66 Kb      -1.05 Mb      90.57 Gb     -72.41 Gb          2473  \n",
      "                                      aten::convolution         0.07%      88.684ms         2.05%        2.483s     334.622us      17.437ms         0.01%       11.402s       1.537ms           0 b           0 b     216.91 Gb           0 b          7419  \n",
      "                                               aten::mm         0.07%      89.250ms         0.07%      89.250ms      38.670us      17.118ms         0.01%      17.118ms       7.417us           0 b           0 b     496.96 Mb     496.96 Mb          2308  \n",
      "                                           aten::conv1d         0.04%      45.810ms         2.08%        2.528s     340.796us      16.685ms         0.01%       11.419s       1.539ms           0 b           0 b     216.91 Gb           0 b          7419  \n",
      "                                       aten::max_pool1d         0.04%      45.424ms         0.47%     575.409ms      77.559us      16.512ms         0.01%        5.961s     803.524us           0 b           0 b     271.51 Mb           0 b          7419  \n",
      "                                             aten::relu         0.06%      77.922ms         0.24%     295.400ms      39.817us      16.411ms         0.01%        1.421s     191.470us           0 b           0 b     216.95 Gb           0 b          7419  \n",
      "                                    aten::empty_strided         0.21%     249.897ms         0.21%     249.897ms      16.590us      16.154ms         0.01%      16.154ms       1.072us       2.97 Gb       2.97 Gb      56.76 Gb      56.76 Gb         15063  \n",
      "                                        aten::transpose         0.03%      33.634ms         0.04%      51.010ms       7.196us      15.958ms         0.01%      20.294ms       2.863us           0 b           0 b           0 b           0 b          7089  \n",
      "                                                aten::t         0.04%      48.915ms         0.08%      99.925ms      14.096us      15.858ms         0.01%      36.152ms       5.100us           0 b           0 b           0 b           0 b          7089  \n",
      "enumerate(DataLoader)#_SingleProcessDataLoaderIter._...        61.56%       74.697s        62.49%       75.820s      30.622ms      14.030ms         0.01%      54.056ms      21.832us       3.69 Gb      -1.05 Mb           0 b           0 b          2476  \n",
      "                                        aten::embedding         0.05%      60.317ms         0.16%     192.245ms      77.738us      13.927ms         0.01%     477.266ms     192.991us           0 b           0 b      72.41 Gb           0 b          2473  \n",
      "                                           aten::arange         0.02%      22.185ms         0.04%      51.945ms      22.506us      11.758ms         0.01%      21.618ms       9.367us           0 b           0 b     691.65 Mb           0 b          2308  \n",
      "                    aten::binary_cross_entropy_backward         0.03%      31.991ms         0.11%     132.170ms     114.532us      11.453ms         0.01%      23.478ms      20.345us           0 b           0 b      48.43 Mb           0 b          1154  \n",
      "autograd::engine::evaluate_function: ConvolutionBack...         0.07%      78.913ms         1.89%        2.295s     662.850us      11.325ms         0.01%       15.192s       4.388ms           0 b           0 b    -100.77 Gb    -270.33 Gb          3462  \n",
      "                                          aten::resize_         0.05%      63.708ms         0.05%      63.708ms       7.266us      10.700ms         0.01%      10.700ms       1.220us           0 b           0 b     178.55 Gb     178.55 Gb          8768  \n",
      "autograd::engine::evaluate_function: SqueezeBackward...         0.02%      27.747ms         0.08%      91.287ms      19.776us      10.602ms         0.01%      34.511ms       7.476us           0 b           0 b           0 b           0 b          4616  \n",
      "                                       SqueezeBackward1         0.02%      19.758ms         0.05%      63.540ms      13.765us      10.449ms         0.01%      23.909ms       5.180us           0 b           0 b           0 b           0 b          4616  \n",
      "                                           aten::linear         0.02%      25.918ms         0.29%     357.508ms     144.564us      10.214ms         0.01%      70.004ms      28.307us           0 b           0 b     103.78 Mb           0 b          2473  \n",
      "                                         AddmmBackward0         0.02%      23.824ms         0.13%     157.678ms     136.636us       9.774ms         0.01%      44.362ms      38.442us           0 b           0 b     496.96 Mb           0 b          1154  \n",
      "                                          ReluBackward0         0.02%      25.366ms         0.07%      89.445ms      25.836us       9.064ms         0.01%     954.083ms     275.587us           0 b           0 b     101.30 Gb           0 b          3462  \n",
      "                                           aten::expand         0.01%      17.681ms         0.02%      25.754ms       7.101us       8.449ms         0.01%      11.101ms       3.061us           0 b           0 b           0 b           0 b          3627  \n",
      "     autograd::engine::evaluate_function: ReluBackward0         0.03%      38.732ms         0.11%     128.177ms      37.024us       8.265ms         0.01%     962.348ms     277.975us           0 b           0 b    -101.31 Gb    -202.61 Gb          3462  \n",
      "                                          aten::permute         0.03%      38.101ms         0.04%      49.432ms      13.629us       8.216ms         0.01%      10.411ms       2.870us           0 b           0 b           0 b           0 b          3627  \n",
      "                                          aten::sigmoid         0.05%      57.236ms         0.05%      57.236ms      23.144us       8.142ms         0.01%       8.142ms       3.292us           0 b           0 b     103.78 Mb     103.78 Mb          2473  \n",
      "                          MaxPool2DWithIndicesBackward0         0.02%      23.826ms         0.23%     278.623ms      80.480us       7.914ms         0.01%        1.177s     339.856us           0 b           0 b     101.30 Gb           0 b          3462  \n",
      "autograd::engine::evaluate_function: UnsqueezeBackwa...         0.02%      19.762ms         0.05%      65.052ms      18.790us       7.798ms         0.01%      25.404ms       7.338us           0 b           0 b           0 b           0 b          3462  \n",
      "autograd::engine::evaluate_function: MaxPool2DWithIn...         0.04%      48.833ms         0.27%     327.456ms      94.586us       7.764ms         0.01%        1.184s     342.098us           0 b           0 b     101.17 Gb    -126.70 Mb          3462  \n",
      "                                           aten::narrow         0.01%      14.957ms         0.05%      55.104ms      15.917us       7.694ms         0.01%      63.172ms      18.247us           0 b           0 b           0 b           0 b          3462  \n",
      "                                     UnsqueezeBackward0         0.01%      14.308ms         0.04%      45.290ms      13.082us       7.690ms         0.01%      17.606ms       5.085us           0 b           0 b           0 b           0 b          3462  \n",
      "                                   aten::_reshape_alias         0.02%      19.382ms         0.02%      19.382ms       3.147us       6.992ms         0.00%       6.992ms       1.135us           0 b           0 b           0 b           0 b          6159  \n",
      "                                           CatBackward0         0.01%      11.920ms         0.06%      67.024ms      58.080us       6.389ms         0.00%      69.561ms      60.278us           0 b           0 b           0 b           0 b          1154  \n",
      "    autograd::engine::evaluate_function: AddmmBackward0         0.02%      30.084ms         0.18%     218.184ms     189.068us       6.076ms         0.00%      58.021ms      50.278us           0 b           0 b     407.99 Mb     -90.66 Mb          1154  \n",
      "                                           aten::detach         0.01%      11.035ms         0.02%      23.931ms       9.041us       5.796ms         0.00%       8.464ms       3.198us           0 b           0 b           0 b           0 b          2647  \n",
      "                                          aten::dropout         0.01%      16.960ms         0.12%     142.453ms      57.603us       5.507ms         0.00%     566.453ms     229.055us           0 b           0 b      90.57 Gb           0 b          2473  \n",
      "                                             aten::item         0.01%      16.019ms         0.17%     209.826ms      90.794us       5.378ms         0.00%        1.083s     468.769us           0 b           0 b           0 b           0 b          2311  \n",
      "                                           aten::select         0.01%      14.493ms         0.02%      20.287ms       8.790us       5.335ms         0.00%       6.796ms       2.945us           0 b           0 b           0 b           0 b          2308  \n",
      "                                              aten::cat         0.02%      29.216ms         0.08%      93.480ms      37.800us       5.202ms         0.00%      29.625ms      11.979us           0 b           0 b      90.50 Mb           0 b          2473  \n",
      "                                        aten::ones_like         0.01%       9.592ms         0.03%      32.807ms      28.429us       4.070ms         0.00%      10.042ms       8.702us           0 b           0 b     577.00 Kb           0 b          1154  \n",
      "                                             aten::view         0.01%      10.174ms         0.01%      10.174ms       3.903us       2.896ms         0.00%       2.896ms       1.111us           0 b           0 b           0 b           0 b          2607  \n",
      "autograd::engine::evaluate_function: NativeDropoutBa...         0.01%      14.283ms         0.05%      59.892ms      51.899us       2.816ms         0.00%     271.740ms     235.477us           0 b           0 b      -8.50 Gb     -42.30 Gb          1154  \n",
      "                                                 detach         0.01%      12.889ms         0.01%      12.889ms       4.873us       2.668ms         0.00%       2.668ms       1.009us           0 b           0 b           0 b           0 b          2645  \n",
      "        autograd::engine::evaluate_function: TBackward0         0.01%       6.601ms         0.02%      26.929ms      23.335us       2.667ms         0.00%      11.124ms       9.640us           0 b           0 b           0 b           0 b          1154  \n",
      "                                 aten::sigmoid_backward         0.02%      22.207ms         0.02%      22.207ms      19.244us       2.665ms         0.00%       2.665ms       2.309us           0 b           0 b      48.43 Mb      48.43 Mb          1154  \n",
      "                                       aten::resize_as_         0.00%       5.116ms         0.01%       8.423ms       7.299us       2.642ms         0.00%       3.370ms       2.920us           0 b           0 b           0 b           0 b          1154  \n",
      "                                             aten::div_         0.06%      68.482ms         0.06%      68.482ms      59.343us       2.632ms         0.00%       2.632ms       2.281us           0 b           0 b           0 b           0 b          1154  \n",
      "                                       PermuteBackward0         0.01%       6.642ms         0.02%      19.203ms      16.640us       2.620ms         0.00%       5.912ms       5.123us           0 b           0 b           0 b           0 b          1154  \n",
      "                                 NativeDropoutBackward0         0.01%       8.388ms         0.04%      45.609ms      39.523us       2.603ms         0.00%     268.924ms     233.036us           0 b           0 b      33.81 Gb           0 b          1154  \n",
      "                                        aten::expand_as         0.00%       4.668ms         0.01%      12.577ms      10.899us       2.600ms         0.00%       5.963ms       5.167us           0 b           0 b           0 b           0 b          1154  \n",
      "      autograd::engine::evaluate_function: CatBackward0         0.01%       8.192ms         0.06%      75.216ms      65.179us       2.597ms         0.00%      72.158ms      62.529us           0 b           0 b           0 b           0 b          1154  \n",
      "autograd::engine::evaluate_function: EmbeddingBackwa...         0.01%      16.238ms        18.86%       22.886s      19.832ms       2.584ms         0.00%        2.371s       2.054ms           0 b           0 b     -13.19 Gb     -33.81 Gb          1154  \n",
      "                                             TBackward0         0.00%       5.225ms         0.02%      20.328ms      17.615us       2.581ms         0.00%       8.457ms       7.328us           0 b           0 b           0 b           0 b          1154  \n",
      "autograd::engine::evaluate_function: SigmoidBackward...         0.01%      13.162ms         0.04%      45.774ms      39.666us       2.571ms         0.00%       7.745ms       6.711us           0 b           0 b           0 b     -48.43 Mb          1154  \n",
      "                                     EmbeddingBackward0         0.01%       7.564ms        18.85%       22.870s      19.818ms       2.571ms         0.00%        2.368s       2.052ms           0 b           0 b      20.62 Gb           0 b          1154  \n",
      "autograd::engine::evaluate_function: PermuteBackward...         0.01%       6.236ms         0.02%      25.439ms      22.044us       2.560ms         0.00%       8.472ms       7.341us           0 b           0 b           0 b           0 b          1154  \n",
      "-------------------------------------------------------  ------------  ------------  ------------  ------------  ------------  ------------  ------------  ------------  ------------  ------------  ------------  ------------  ------------  ------------  \n",
      "Self CPU time total: 121.339s\n",
      "Self CUDA time total: 153.632s\n",
      "\n"
     ]
    }
   ],
   "source": [
    "print(prof_base.key_averages(group_by_stack_n=5).table(sort_by='self_cuda_time_total'))"
   ]
  },
  {
   "cell_type": "code",
   "execution_count": null,
   "metadata": {},
   "outputs": [],
   "source": [
    "tt_recall_at_k, tt_micro_f1, tt_macro_f1, tt_micro_auc, tt_macro_auc = test(base_model, test_dataloader, wikivec)\n",
    "print(f'Test Micro F1: {tt_micro_f1:.4f}, Test Macro F1: {tt_macro_f1:.4f}' +\n",
    "      f', Test Micro AUC: {tt_micro_auc:.4f}, Test Macro AUC: {tt_macro_auc:.4f}')"
   ]
  },
  {
   "cell_type": "code",
   "execution_count": 13,
   "metadata": {},
   "outputs": [
    {
     "name": "stderr",
     "output_type": "stream",
     "text": [
      "C:\\Users\\bllgu\\miniconda3\\envs\\deepl\\lib\\site-packages\\torch\\profiler\\profiler.py:384: UserWarning: use_cuda is deprecated, use activities argument instead\n",
      "  warn(\"use_cuda is deprecated, use activities argument instead\")\n"
     ]
    },
    {
     "name": "stdout",
     "output_type": "stream",
     "text": [
      "Epoch: 001, Train Micro F1: 0.5300, Val Micro F1: 0.5179, Train Macro F1: 0.4715, Val Macro F1: 0.4597\n"
     ]
    },
    {
     "data": {
      "text/plain": [
       "==========================================================================================\n",
       "Layer (type:depth-idx)                   Output Shape              Param #\n",
       "==========================================================================================\n",
       "CNN                                      --                        --\n",
       "├─KSI: 1-1                               --                        --\n",
       "│    └─Linear: 2-1                       --                        (recursive)\n",
       "│    └─Linear: 2-2                       --                        (recursive)\n",
       "│    └─Linear: 2-3                       --                        (recursive)\n",
       "├─Embedding: 1-2                         [32, 2455, 100]           4,796,200\n",
       "├─Dropout: 1-3                           [32, 2455, 100]           --\n",
       "├─Conv1d: 1-4                            [32, 100, 2453]           30,100\n",
       "├─Conv1d: 1-5                            [32, 100, 2452]           40,100\n",
       "├─Conv1d: 1-6                            [32, 100, 2451]           50,100\n",
       "├─Linear: 1-7                            [32, 344]                 103,544\n",
       "├─KSI: 1-1                               --                        --\n",
       "│    └─Linear: 2-4                       [32, 344, 100]            1,217,400\n",
       "│    └─Linear: 2-5                       [32, 344, 100]            10,100\n",
       "│    └─Linear: 2-6                       [32, 344, 1]              101\n",
       "==========================================================================================\n",
       "Total params: 6,247,645\n",
       "Trainable params: 6,247,645\n",
       "Non-trainable params: 0\n",
       "Total mult-adds (G): 9.63\n",
       "==========================================================================================\n",
       "Input size (MB): 18.62\n",
       "Forward/backward pass size (MB): 268.95\n",
       "Params size (MB): 24.99\n",
       "Estimated Total Size (MB): 312.56\n",
       "=========================================================================================="
      ]
     },
     "execution_count": 13,
     "metadata": {},
     "output_type": "execute_result"
    }
   ],
   "source": [
    "ksi = KSI(n_embedding, n_vocab)\n",
    "ksi.to(DEVICE)\n",
    "model = CNN(n_words, n_wiki, n_embedding, ksi=ksi)\n",
    "model = model.to(DEVICE)\n",
    "ksi_summary = summary(model, [(batch_size, avg_note_size), \n",
    "                              (batch_size, n_vocab),\n",
    "                              (n_wiki, n_vocab)], \n",
    "                      dtypes=[torch.int, torch.float, torch.float])\n",
    "loss_function = nn.BCELoss()\n",
    "optimizer = optim.Adam(model.parameters())  \n",
    "\n",
    "with torch.profiler.profile(activities=[\n",
    "        torch.profiler.ProfilerActivity.CPU,\n",
    "        torch.profiler.ProfilerActivity.CUDA,\n",
    "    ], profile_memory=True, use_cuda=True, on_trace_ready=torch.profiler.tensorboard_trace_handler('./log/CNN_KSI')) as prof_ksi:\n",
    "    for epoch in range(1):\n",
    "        train(model, train_dataloader, loss_function, optimizer, wikivec)\n",
    "        t_recall_at_k, t_micro_f1, t_macro_f1, t_micro_auc, t_macro_auc = test(model, train_dataloader, wikivec)\n",
    "        v_recall_at_k, v_micro_f1, v_macro_f1, v_micro_auc, v_macro_auc = test(model, val_dataloader, wikivec)\n",
    "        print(f'Epoch: {epoch+1:03d}, Train Micro F1: {t_micro_f1:.4f}, Val Micro F1: {v_micro_f1:.4f}' +\n",
    "            f', Train Macro F1: {t_macro_f1:.4f}, Val Macro F1: {v_macro_f1:.4f}')\n",
    "    \n",
    "# torch.save(model, 'KSI_CNN_model.pt')\n",
    "ksi_summary"
   ]
  },
  {
   "cell_type": "code",
   "execution_count": 14,
   "metadata": {},
   "outputs": [
    {
     "name": "stdout",
     "output_type": "stream",
     "text": [
      "-------------------------------------------------------  ------------  ------------  ------------  ------------  ------------  ------------  ------------  ------------  ------------  ------------  ------------  ------------  ------------  ------------  \n",
      "                                                   Name    Self CPU %      Self CPU   CPU total %     CPU total  CPU time avg     Self CUDA   Self CUDA %    CUDA total  CUDA time avg       CPU Mem  Self CPU Mem      CUDA Mem  Self CUDA Mem    # of Calls  \n",
      "-------------------------------------------------------  ------------  ------------  ------------  ------------  ------------  ------------  ------------  ------------  ------------  ------------  ------------  ------------  ------------  ------------  \n",
      "                                            aten::copy_        14.52%       21.618s        14.52%       21.618s     804.937us       86.159s        45.62%       86.159s       3.208ms           0 b           0 b           0 b           0 b         26857  \n",
      "                                             aten::mul_         0.20%     296.702ms         0.20%     296.702ms       8.570us       37.591s        19.91%       37.591s       1.086ms           0 b           0 b           0 b           0 b         34620  \n",
      "                                               aten::mm         0.41%     608.918ms         0.41%     608.918ms      39.293us       17.506s         9.27%       17.506s       1.130ms           0 b           0 b      36.26 Gb      36.26 Gb         15497  \n",
      "                             aten::convolution_backward         0.57%     842.133ms         0.84%        1.251s     361.216us       11.872s         6.29%       13.255s       3.829ms           0 b           0 b     101.94 Gb    -102.40 Gb          3462  \n",
      "                                aten::cudnn_convolution         0.69%        1.024s         0.72%        1.076s     145.007us        7.796s         4.13%        7.801s       1.052ms           0 b           0 b     216.91 Gb     215.69 Gb          7419  \n",
      "                                              aten::mul         0.09%     132.484ms         0.09%     132.484ms      18.264us        7.700s         4.08%        7.700s       1.062ms           0 b           0 b    1255.55 Gb    1255.55 Gb          7254  \n",
      "                          aten::max_pool2d_with_indices         0.14%     202.908ms         0.14%     202.908ms      27.350us        5.726s         3.03%        5.726s     771.822us           0 b           0 b     271.51 Mb     271.51 Mb          7419  \n",
      "                                             aten::add_         0.47%     702.059ms         0.47%     702.059ms      10.142us        2.682s         1.42%        2.682s      38.743us           0 b           0 b           0 b           0 b         69226  \n",
      "                                        aten::clamp_min         0.10%     155.121ms         0.26%     381.040ms      25.680us        1.366s         0.72%        2.719s     183.228us           0 b           0 b     433.89 Gb           0 b         14838  \n",
      "                         aten::embedding_dense_backward        23.15%       34.476s        23.43%       34.885s      30.230ms        1.176s         0.62%        2.165s       1.876ms           0 b           0 b      20.62 Gb      -7.13 Gb          1154  \n",
      "                               aten::threshold_backward         0.04%      62.324ms         0.04%      62.324ms      18.002us     890.580ms         0.47%     890.580ms     257.244us           0 b           0 b     101.25 Gb     101.25 Gb          3462  \n",
      "                              aten::_local_scalar_dense         0.13%     192.481ms         0.13%     192.481ms      83.289us     884.031ms         0.47%     884.031ms     382.532us           0 b           0 b           0 b           0 b          2311  \n",
      "                 aten::max_pool2d_with_indices_backward         0.06%      90.846ms         0.18%     268.585ms      77.581us     746.476ms         0.40%        1.106s     319.481us           0 b           0 b     101.30 Gb     101.26 Gb          3462  \n",
      "                                              aten::div         0.35%     524.249ms         0.35%     524.249ms      30.286us     660.754ms         0.35%     660.754ms      38.172us           0 b           0 b      26.86 Gb      26.86 Gb         17310  \n",
      "                                              aten::add         0.04%      65.283ms         0.04%      65.283ms      18.857us     638.257ms         0.34%     638.257ms     184.361us           0 b           0 b      72.46 Gb      72.46 Gb          3462  \n",
      "                                   aten::native_dropout         0.04%      62.629ms         0.08%     122.780ms      49.648us     538.601ms         0.29%     552.969ms     223.603us           0 b           0 b      90.58 Gb           0 b          2473  \n",
      "                                            aten::fill_         0.11%     160.314ms         0.11%     160.314ms       6.942us     479.942ms         0.25%     479.942ms      20.781us           0 b           0 b           0 b           0 b         23095  \n",
      "                                              aten::sum         0.13%     191.024ms         0.13%     200.188ms      24.782us     470.656ms         0.25%     472.749ms      58.523us           0 b           0 b       5.07 Mb       5.07 Mb          8078  \n",
      "                                     aten::index_select         0.04%      65.720ms         0.07%     102.736ms      41.543us     446.371ms         0.24%     450.455ms     182.149us           0 b           0 b      72.41 Gb           0 b          2473  \n",
      "                                         aten::addcdiv_         0.11%     164.402ms         0.11%     164.402ms       9.498us     413.598ms         0.22%     413.598ms      23.894us           0 b           0 b           0 b           0 b         17310  \n",
      "                          aten::native_dropout_backward         0.01%      20.340ms         0.02%      34.670ms      30.043us     255.202ms         0.14%     259.093ms     224.517us           0 b           0 b      33.81 Gb           0 b          1154  \n",
      "                                         aten::addcmul_         0.09%     138.240ms         0.09%     138.240ms       7.986us     245.946ms         0.13%     245.946ms      14.208us           0 b           0 b           0 b           0 b         17310  \n",
      "                                             aten::sqrt         0.20%     292.941ms         0.20%     292.941ms      16.923us     242.707ms         0.13%     242.707ms      14.021us           0 b           0 b      26.86 Gb      26.86 Gb         17310  \n",
      "                               Optimizer.step#Adam.step         1.25%        1.862s         2.40%        3.580s       3.102ms     210.391ms         0.11%       40.332s      34.950ms      -4.51 Kb    -500.37 Kb      47.67 Mb     -53.73 Gb          1154  \n",
      "                                       aten::as_strided         0.13%     199.054ms         0.13%     199.054ms       2.692us     115.307ms         0.06%     115.307ms       1.560us           0 b           0 b           0 b           0 b         73933  \n",
      "                                        aten::unsqueeze         0.17%     248.269ms         0.25%     368.872ms       8.507us      98.754ms         0.05%     157.138ms       3.624us           0 b           0 b           0 b           0 b         43359  \n",
      "                                          aten::squeeze         0.18%     264.270ms         0.24%     364.688ms       8.884us      91.608ms         0.05%     117.671ms       2.866us           0 b           0 b           0 b           0 b         41051  \n",
      "                                     aten::_convolution         0.16%     243.706ms         1.32%        1.962s     264.418us      88.332ms         0.05%       11.150s       1.503ms           0 b           0 b     216.91 Gb    -217.18 Gb          7419  \n",
      "                                               aten::to         0.10%     149.200ms        15.05%       22.409s       1.638ms      86.348ms         0.05%       83.501s       6.102ms       3.74 Gb           0 b       4.88 Gb           0 b         13684  \n",
      "                                          aten::sigmoid         0.07%      97.319ms         0.07%      97.319ms      19.676us      74.520ms         0.04%      74.520ms      15.067us           0 b           0 b      10.34 Gb      10.34 Gb          4946  \n",
      "                                       aten::empty_like         0.10%     142.523ms         0.23%     343.915ms      12.553us      65.498ms         0.03%      83.356ms       3.043us           0 b           0 b     444.19 Gb           0 b         27397  \n",
      "                                        aten::transpose         0.09%     135.303ms         0.14%     206.111ms       7.577us      63.293ms         0.03%      81.324ms       2.990us           0 b           0 b           0 b           0 b         27202  \n",
      "                                                aten::t         0.13%     194.212ms         0.27%     400.323ms      14.717us      61.103ms         0.03%     142.427ms       5.236us           0 b           0 b           0 b           0 b         27202  \n",
      "                                            aten::empty         0.24%     357.837ms         0.24%     357.837ms       7.225us      56.546ms         0.03%      56.546ms       1.142us       3.38 Mb       3.38 Mb     270.36 Gb     270.36 Gb         49530  \n",
      "                                            aten::clone         0.08%     118.475ms         0.34%     513.436ms      35.797us      56.396ms         0.03%        2.900s     202.201us           0 b           0 b     318.65 Gb           0 b         14343  \n",
      "                                            aten::zero_         0.10%     142.949ms         0.20%     294.119ms       9.825us      56.262ms         0.03%     533.682ms      17.827us           0 b           0 b           0 b           0 b         29936  \n",
      "                                            CNN Forward         0.37%     547.601ms         2.72%        4.050s       1.638ms      53.402ms         0.03%       18.596s       7.520ms      -9.66 Kb      -1.05 Mb     217.40 Gb    -216.91 Gb          2473  \n",
      "                          aten::max_pool1d_with_indices         0.08%     115.137ms         0.37%     545.354ms      73.508us      52.628ms         0.03%        5.842s     787.488us           0 b           0 b     271.51 Mb           0 b          7419  \n",
      "                                            aten::zeros         0.11%     161.101ms         0.21%     305.815ms      22.895us      50.165ms         0.03%     127.082ms       9.514us      47.67 Kb           0 b      20.62 Gb           0 b         13357  \n",
      "                                           aten::linear         0.08%     115.305ms         0.80%        1.192s     120.546us      49.756ms         0.03%       13.125s       1.327ms           0 b           0 b      20.90 Gb           0 b          9892  \n",
      "                                         aten::_to_copy         0.14%     210.980ms        14.95%       22.260s       1.800ms      46.989ms         0.02%       83.415s       6.746ms       3.74 Gb           0 b       4.88 Gb           0 b         12365  \n",
      "                                            KSI Forward         0.19%     285.447ms         0.94%        1.399s     565.891us      46.479ms         0.02%       20.825s       8.421ms      -9.66 Kb      -1.05 Mb    1266.68 Gb     -10.33 Gb          2473  \n",
      "                                             aten::mean         0.03%      45.614ms         0.03%      48.539ms      42.062us      43.177ms         0.02%      43.878ms      38.023us           0 b           0 b     577.00 Kb     577.00 Kb          1154  \n",
      "                                 aten::sigmoid_backward         0.03%      39.120ms         0.03%      39.120ms      16.950us      41.529ms         0.02%      41.529ms      17.994us           0 b           0 b       4.87 Gb       4.87 Gb          2308  \n",
      "                                           aten::matmul         0.07%     103.276ms         0.36%     542.381ms      73.107us      41.454ms         0.02%       12.844s       1.731ms           0 b           0 b      20.80 Gb           0 b          7419  \n",
      "                                            aten::addmm         0.17%     248.327ms         0.18%     267.280ms     108.079us      38.751ms         0.02%      46.307ms      18.725us           0 b           0 b     103.78 Mb     103.78 Mb          2473  \n",
      "autograd::engine::evaluate_function: struct torch::a...         0.06%      93.765ms         0.31%     454.756ms      26.271us      38.617ms         0.02%     409.555ms      23.660us           0 b           0 b     -26.94 Gb           0 b         17310  \n",
      "                 struct torch::autograd::AccumulateGrad         0.11%     169.905ms         0.24%     360.991ms      20.854us      37.657ms         0.02%     370.938ms      21.429us           0 b           0 b     -26.94 Gb     -26.94 Gb         17310  \n",
      "                                          aten::reshape         0.06%      89.811ms         0.10%     147.253ms       9.402us      35.833ms         0.02%      46.277ms       2.955us           0 b           0 b           0 b           0 b         15662  \n",
      "                                       aten::contiguous         0.05%      68.892ms         0.39%     582.328ms      40.600us      32.019ms         0.02%        2.932s     204.434us           0 b           0 b     318.65 Gb           0 b         14343  \n",
      "                     Optimizer.zero_grad#Adam.zero_grad         0.09%     137.009ms         0.25%     365.371ms     316.613us      29.777ms         0.02%     217.819ms     188.751us      -4.51 Kb    -500.37 Kb           0 b           0 b          1154  \n",
      "                                            MmBackward0         0.04%      61.125ms         0.27%     397.339ms     114.772us      26.116ms         0.01%        4.781s       1.381ms           0 b           0 b      14.97 Gb           0 b          3462  \n",
      "                                             aten::_cat         0.03%      43.292ms         0.05%      71.332ms      28.844us      21.168ms         0.01%      24.700ms       9.988us           0 b           0 b      90.50 Mb           0 b          2473  \n",
      "      autograd::engine::evaluate_function: AddBackward0         0.03%      52.023ms         0.12%     171.678ms      37.192us      20.936ms         0.01%      82.659ms      17.907us           0 b           0 b       1.69 Mb           0 b          4616  \n",
      "                             aten::binary_cross_entropy         0.03%      48.922ms         0.11%     163.733ms     141.883us      20.250ms         0.01%      83.825ms      72.639us           0 b           0 b      48.43 Mb    -577.00 Kb          1154  \n",
      "                                          CNN Embedding         0.13%     191.989ms         0.69%        1.022s     413.441us      18.557ms         0.01%        1.060s     428.739us      -9.66 Kb      -1.05 Mb      90.58 Gb     -72.41 Gb          2473  \n",
      "                                           aten::conv1d         0.03%      49.475ms         1.41%        2.105s     283.729us      17.060ms         0.01%       11.183s       1.507ms           0 b           0 b     216.91 Gb           0 b          7419  \n",
      "                                       aten::max_pool1d         0.03%      48.520ms         0.40%     593.874ms      80.048us      17.002ms         0.01%        5.859s     789.779us           0 b           0 b     271.51 Mb           0 b          7419  \n",
      "                                     aten::_unsafe_view         0.04%      52.315ms         0.05%      76.047ms      10.250us      16.706ms         0.01%      21.385ms       2.882us           0 b           0 b           0 b           0 b          7419  \n",
      "                                      aten::convolution         0.06%      93.789ms         1.38%        2.056s     277.060us      16.609ms         0.01%       11.166s       1.505ms           0 b           0 b     216.91 Gb           0 b          7419  \n",
      "                                             aten::relu         0.05%      80.662ms         0.21%     316.504ms      42.661us      16.564ms         0.01%        1.393s     187.701us           0 b           0 b     216.95 Gb           0 b          7419  \n",
      "                                    aten::empty_strided         0.28%     422.524ms         0.28%     422.524ms      28.129us      16.204ms         0.01%      16.204ms       1.079us       2.94 Gb       2.94 Gb      55.16 Gb      55.16 Gb         15021  \n",
      "enumerate(DataLoader)#_SingleProcessDataLoaderIter._...        51.42%       76.568s        52.32%       77.912s      31.467ms      14.910ms         0.01%      54.285ms      21.924us       3.69 Gb      -1.05 Mb           0 b           0 b          2476  \n",
      "                                             aten::view         0.04%      53.953ms         0.04%      53.953ms       4.243us      14.377ms         0.01%      14.377ms       1.131us           0 b           0 b           0 b           0 b         12716  \n",
      "                                           aten::expand         0.03%      37.980ms         0.04%      54.480ms       8.931us      14.008ms         0.01%      18.163ms       2.978us           0 b           0 b           0 b           0 b          6100  \n",
      "                                        aten::embedding         0.04%      62.673ms         0.14%     201.622ms      81.529us      13.681ms         0.01%     474.060ms     191.694us           0 b           0 b      72.41 Gb           0 b          2473  \n",
      "autograd::engine::evaluate_function: SqueezeBackward...         0.02%      34.020ms         0.09%     130.154ms      22.557us      13.101ms         0.01%      73.280ms      12.700us           0 b           0 b           0 b           0 b          5770  \n",
      "                                       SqueezeBackward1         0.02%      27.209ms         0.06%      96.134ms      16.661us      12.903ms         0.01%      60.179ms      10.430us           0 b           0 b           0 b           0 b          5770  \n",
      "                    aten::binary_cross_entropy_backward         0.02%      34.802ms         0.07%     102.730ms      89.021us      11.598ms         0.01%      23.462ms      20.331us           0 b           0 b      48.43 Mb           0 b          1154  \n",
      "                                           aten::arange         0.01%      22.250ms         0.04%      52.849ms      22.898us      11.493ms         0.01%      21.022ms       9.108us           0 b           0 b     691.65 Mb           0 b          2308  \n",
      "autograd::engine::evaluate_function: ConvolutionBack...         0.05%      69.797ms         0.93%        1.391s     401.664us      11.424ms         0.01%       13.873s       4.007ms           0 b           0 b    -100.72 Gb    -270.28 Gb          3462  \n",
      "        autograd::engine::evaluate_function: TBackward0         0.02%      28.230ms         0.08%     112.220ms      24.311us      10.823ms         0.01%      48.859ms      10.585us           0 b           0 b           0 b           0 b          4616  \n",
      "                                             TBackward0         0.01%      20.597ms         0.06%      83.990ms      18.195us      10.801ms         0.01%      38.036ms       8.240us           0 b           0 b           0 b           0 b          4616  \n",
      "                                          aten::resize_         0.04%      65.202ms         0.04%      65.202ms       7.464us      10.789ms         0.01%      10.789ms       1.235us           0 b           0 b     178.67 Gb     178.67 Gb          8736  \n",
      "                                   aten::_reshape_alias         0.02%      33.085ms         0.02%      33.085ms       3.571us      10.444ms         0.01%      10.444ms       1.127us           0 b           0 b           0 b           0 b          9264  \n",
      "                                         AddmmBackward0         0.02%      23.380ms         0.09%     137.774ms     119.388us       9.433ms         0.00%      48.497ms      42.025us           0 b           0 b     496.96 Mb           0 b          1154  \n",
      "                                          ReluBackward0         0.02%      25.964ms         0.06%      88.288ms      25.502us       8.791ms         0.00%     899.371ms     259.784us           0 b           0 b     101.25 Gb           0 b          3462  \n",
      "                                          aten::permute         0.03%      38.404ms         0.03%      50.123ms      13.819us       8.047ms         0.00%      10.328ms       2.848us           0 b           0 b           0 b           0 b          3627  \n",
      "                                            aten::slice         0.01%      18.221ms         0.02%      25.054ms       7.237us       7.921ms         0.00%      10.077ms       2.911us           0 b           0 b           0 b           0 b          3462  \n",
      "     autograd::engine::evaluate_function: ReluBackward0         0.03%      46.151ms         0.09%     134.439ms      38.833us       7.919ms         0.00%     907.290ms     262.071us           0 b           0 b    -101.36 Gb    -202.61 Gb          3462  \n",
      "autograd::engine::evaluate_function: UnsafeViewBackw...         0.01%      19.822ms         0.05%      73.580ms      21.254us       7.898ms         0.00%      25.417ms       7.342us           0 b           0 b           0 b           0 b          3462  \n",
      "autograd::engine::evaluate_function: UnsqueezeBackwa...         0.01%      22.313ms         0.05%      75.163ms      21.711us       7.890ms         0.00%      25.588ms       7.391us           0 b           0 b           0 b           0 b          3462  \n",
      "                                     UnsqueezeBackward0         0.01%      16.351ms         0.04%      52.850ms      15.266us       7.814ms         0.00%      17.698ms       5.112us           0 b           0 b           0 b           0 b          3462  \n",
      "                                           aten::narrow         0.01%      18.781ms         0.03%      43.835ms      12.662us       7.806ms         0.00%      17.883ms       5.166us           0 b           0 b           0 b           0 b          3462  \n",
      "                                   ConvolutionBackward0         0.02%      23.540ms         0.86%        1.274s     368.016us       7.697ms         0.00%       13.262s       3.831ms           0 b           0 b     101.94 Gb           0 b          3462  \n",
      "autograd::engine::evaluate_function: MaxPool2DWithIn...         0.03%      45.878ms         0.23%     340.491ms      98.351us       7.693ms         0.00%        1.121s     323.891us           0 b           0 b     101.17 Gb    -126.70 Mb          3462  \n",
      "       autograd::engine::evaluate_function: MmBackward0         0.04%      53.183ms         0.30%     450.522ms     130.133us       7.580ms         0.00%        4.789s       1.383ms           0 b           0 b    -580.98 Gb    -595.95 Gb          3462  \n",
      "                          MaxPool2DWithIndicesBackward0         0.02%      26.028ms         0.20%     294.613ms      85.099us       7.574ms         0.00%        1.114s     321.669us           0 b           0 b     101.30 Gb           0 b          3462  \n",
      "                                    UnsafeViewBackward0         0.01%      16.977ms         0.04%      53.758ms      15.528us       7.524ms         0.00%      17.519ms       5.060us           0 b           0 b           0 b           0 b          3462  \n",
      "     autograd::engine::evaluate_function: ViewBackward0         0.02%      26.821ms         0.05%      78.142ms      33.857us       7.433ms         0.00%      58.301ms      25.260us           0 b           0 b      -4.75 Gb      -9.60 Gb          2308  \n",
      "                                           CatBackward0         0.01%      12.786ms         0.04%      56.621ms      49.065us       6.410ms         0.00%      24.293ms      21.051us           0 b           0 b           0 b           0 b          1154  \n",
      "    autograd::engine::evaluate_function: AddmmBackward0         0.02%      28.304ms         0.13%     189.020ms     163.795us       6.065ms         0.00%      63.148ms      54.721us           0 b           0 b     407.99 Mb     -90.66 Mb          1154  \n",
      "                                           aten::detach         0.01%      13.663ms         0.02%      28.627ms      10.790us       5.863ms         0.00%       8.527ms       3.214us           0 b           0 b           0 b           0 b          2653  \n",
      "                                          aten::dropout         0.01%      17.984ms         0.09%     140.764ms      56.920us       5.507ms         0.00%     558.476ms     225.829us           0 b           0 b      90.58 Gb           0 b          2473  \n",
      "                                             aten::item         0.01%      17.853ms         0.14%     210.334ms      91.014us       5.333ms         0.00%     889.364ms     384.839us           0 b           0 b           0 b           0 b          2311  \n",
      "                                           aten::select         0.01%      15.027ms         0.01%      20.547ms       8.903us       5.276ms         0.00%       6.719ms       2.911us           0 b           0 b           0 b           0 b          2308  \n",
      "                                              aten::cat         0.02%      34.345ms         0.07%     105.677ms      42.732us       5.211ms         0.00%      29.911ms      12.095us           0 b           0 b      90.50 Mb           0 b          2473  \n",
      "                                          ViewBackward0         0.01%       9.820ms         0.02%      32.732ms      14.182us       5.175ms         0.00%      11.719ms       5.078us           0 b           0 b           0 b           0 b          2308  \n",
      "autograd::engine::evaluate_function: SigmoidBackward...         0.02%      24.174ms         0.06%      82.562ms      35.772us       5.052ms         0.00%      51.544ms      22.333us           0 b           0 b      -4.72 Gb      -9.59 Gb          2308  \n",
      "                                       SigmoidBackward0         0.01%      19.268ms         0.04%      58.388ms      25.298us       4.963ms         0.00%      46.492ms      20.144us           0 b           0 b       4.87 Gb           0 b          2308  \n",
      "-------------------------------------------------------  ------------  ------------  ------------  ------------  ------------  ------------  ------------  ------------  ------------  ------------  ------------  ------------  ------------  ------------  \n",
      "Self CPU time total: 148.918s\n",
      "Self CUDA time total: 188.843s\n",
      "\n"
     ]
    }
   ],
   "source": [
    "print(prof_ksi.key_averages(group_by_stack_n=5).table(sort_by='self_cuda_time_total'))"
   ]
  },
  {
   "cell_type": "code",
   "execution_count": null,
   "metadata": {},
   "outputs": [],
   "source": [
    "tt_recall_at_k, tt_micro_f1, tt_macro_f1, tt_micro_auc, tt_macro_auc = test(model, test_dataloader, wikivec)\n",
    "print(f'Test Micro F1: {tt_micro_f1:.4f}, Test Macro F1: {tt_macro_f1:.4f}' +\n",
    "      f', Test Micro AUC: {tt_micro_auc:.4f}, Test Macro AUC: {tt_macro_auc:.4f}')"
   ]
  },
  {
   "cell_type": "code",
   "execution_count": 15,
   "metadata": {},
   "outputs": [
    {
     "name": "stdout",
     "output_type": "stream",
     "text": [
      "Test Micro F1: 0.6273, Test Macro F1: 0.5864, Test Micro AUC: 0.9752, Test Macro AUC: 0.9752\n"
     ]
    }
   ],
   "source": [
    "base_model = torch.load('CNN_model.pt')\n",
    "tt_recall_at_k, tt_micro_f1, tt_macro_f1, tt_micro_auc, tt_macro_auc = test(base_model, test_dataloader, wikivec)\n",
    "print(f'Test Micro F1: {tt_micro_f1:.4f}, Test Macro F1: {tt_macro_f1:.4f}' +\n",
    "      f', Test Micro AUC: {tt_micro_auc:.4f}, Test Macro AUC: {tt_macro_auc:.4f}')"
   ]
  },
  {
   "cell_type": "code",
   "execution_count": 16,
   "metadata": {},
   "outputs": [
    {
     "name": "stdout",
     "output_type": "stream",
     "text": [
      "Test Micro F1: 0.6318, Test Macro F1: 0.6012, Test Micro AUC: 0.9762, Test Macro AUC: 0.9761\n"
     ]
    }
   ],
   "source": [
    "model = torch.load('KSI_CNN_model.pt')\n",
    "tt_recall_at_k, tt_micro_f1, tt_macro_f1, tt_micro_auc, tt_macro_auc = test(model, test_dataloader, wikivec)\n",
    "print(f'Test Micro F1: {tt_micro_f1:.4f}, Test Macro F1: {tt_macro_f1:.4f}' +\n",
    "      f', Test Micro AUC: {tt_micro_auc:.4f}, Test Macro AUC: {tt_macro_auc:.4f}')"
   ]
  }
 ],
 "metadata": {
  "interpreter": {
   "hash": "57e07979f6a7af2a0b0e861d549d9c40e5b4b1911b131063753718048dd868ae"
  },
  "kernelspec": {
   "display_name": "Python 3.8.12 ('deepl')",
   "language": "python",
   "name": "python3"
  },
  "language_info": {
   "codemirror_mode": {
    "name": "ipython",
    "version": 3
   },
   "file_extension": ".py",
   "mimetype": "text/x-python",
   "name": "python",
   "nbconvert_exporter": "python",
   "pygments_lexer": "ipython3",
   "version": "3.8.12"
  },
  "orig_nbformat": 4
 },
 "nbformat": 4,
 "nbformat_minor": 2
}
