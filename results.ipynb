{
 "cells": [
  {
   "cell_type": "code",
   "execution_count": 5,
   "metadata": {},
   "outputs": [],
   "source": [
    "import torch\n",
    "import pandas as pd\n",
    "from matplotlib import pyplot as plt\n",
    "import seaborn as sns\n",
    "\n",
    "from KSI_models import *\n",
    "from KSI_utils import load_KSI_data, test_model\n",
    "\n",
    "DEVICE = torch.device(\"cuda\" if torch.cuda.is_available() else \"cpu\")"
   ]
  },
  {
   "cell_type": "code",
   "execution_count": 6,
   "metadata": {},
   "outputs": [],
   "source": [
    "model = 'LSTM'\n",
    "batch_size = 32\n",
    "if model in ('LSTM', 'LSTMattn'):\n",
    "    init_hidden = True"
   ]
  },
  {
   "cell_type": "code",
   "execution_count": 7,
   "metadata": {},
   "outputs": [],
   "source": [
    "dir = 'data/original/'\n",
    "loaders, wikivec, word_to_ix = load_KSI_data(dir=dir,\n",
    "                                             batch_size=batch_size,\n",
    "                                             train=False,\n",
    "                                             val=False,\n",
    "                                             test=True,\n",
    "                                             device=DEVICE)\n",
    "test_dataloader_orig = loaders['test']\n"
   ]
  },
  {
   "cell_type": "code",
   "execution_count": 8,
   "metadata": {},
   "outputs": [],
   "source": [
    "base_model = torch.load(f'{dir}{model}_model.pt')\n",
    "recall_at_k_1, micro_f1_1, macro_f1_1, micro_auc_1, macro_auc_1, label_aucs_1 = test_model(base_model,\n",
    "                                                                                           test_dataloader_orig,\n",
    "                                                                                           wikivec,\n",
    "                                                                                           label_bins=f'{dir}bin_data.npy',\n",
    "                                                                                           device=DEVICE,\n",
    "                                                                                           init_hidden=init_hidden)\n",
    "del base_model\n",
    "\n",
    "ksi_model = torch.load(f'{dir}{model}_KSI_model.pt')\n",
    "recall_at_k_2, micro_f1_2, macro_f1_2, micro_auc_2, macro_auc_2, label_aucs_2 = test_model(ksi_model,\n",
    "                                                                                           test_dataloader_orig,\n",
    "                                                                                           wikivec,\n",
    "                                                                                           label_bins=f'{dir}bin_data.npy',\n",
    "                                                                                           device=DEVICE,\n",
    "                                                                                           init_hidden=init_hidden)\n",
    "del ksi_model"
   ]
  },
  {
   "cell_type": "code",
   "execution_count": 9,
   "metadata": {},
   "outputs": [],
   "source": [
    "dir = 'data/original_freqs/'\n",
    "loaders, wikivec, word_to_ix = load_KSI_data(dir=dir,\n",
    "                                             batch_size=batch_size,\n",
    "                                             train=False,\n",
    "                                             val=False,\n",
    "                                             test=True,\n",
    "                                             device=DEVICE)\n",
    "test_dataloader_freqs = loaders['test']"
   ]
  },
  {
   "cell_type": "code",
   "execution_count": 11,
   "metadata": {},
   "outputs": [],
   "source": [
    "mod_model = torch.load(f'{dir}{model}_ModifiedKSI_model.pt')\n",
    "recall_at_k_3, micro_f1_3, macro_f1_3, micro_auc_3, macro_auc_3, label_aucs_3 = test_model(mod_model,\n",
    "                                                                                           test_dataloader_freqs,\n",
    "                                                                                           wikivec,\n",
    "                                                                                           label_bins=f'{dir}bin_data.npy',\n",
    "                                                                                           device=DEVICE,\n",
    "                                                                                           init_hidden=init_hidden)\n",
    "del mod_model"
   ]
  },
  {
   "cell_type": "code",
   "execution_count": 12,
   "metadata": {},
   "outputs": [],
   "source": [
    "dir = 'data/original_tfidf/'\n",
    "loaders, wikivec, word_to_ix = load_KSI_data(dir=dir,\n",
    "                                             batch_size=batch_size,\n",
    "                                             train=False,\n",
    "                                             val=False,\n",
    "                                             test=True,\n",
    "                                             device=DEVICE)\n",
    "test_dataloader_freqs = loaders['test']"
   ]
  },
  {
   "cell_type": "code",
   "execution_count": 13,
   "metadata": {},
   "outputs": [],
   "source": [
    "tfidf_model = torch.load(f'{dir}{model}_ModifiedKSI_tfidf_model.pt')\n",
    "recall_at_k_4, micro_f1_4, macro_f1_4, micro_auc_4, macro_auc_4, label_aucs_4 = test_model(tfidf_model,\n",
    "                                                                                           test_dataloader_freqs,\n",
    "                                                                                           wikivec,\n",
    "                                                                                           label_bins=f'{dir}bin_data.npy',\n",
    "                                                                                           device=DEVICE,\n",
    "                                                                                           init_hidden=init_hidden)\n",
    "del tfidf_model"
   ]
  },
  {
   "cell_type": "code",
   "execution_count": 14,
   "metadata": {},
   "outputs": [],
   "source": [
    "label_aucs_1 = pd.DataFrame.from_dict(\n",
    "    label_aucs_1,\n",
    "    orient='index',\n",
    "    columns=['macro_AUC']\n",
    "    ).reset_index().rename({'index': 'label_frequency'}, axis=1)\n",
    "label_aucs_1['model'] = f'{model}'\n",
    "\n",
    "label_aucs_2 = pd.DataFrame.from_dict(\n",
    "    label_aucs_2,\n",
    "    orient='index',\n",
    "    columns=['macro_AUC']\n",
    "    ).reset_index().rename({'index': 'label_frequency'}, axis=1)\n",
    "label_aucs_2['model'] = f'KSI+{model}'\n",
    "\n",
    "label_aucs_3 = pd.DataFrame.from_dict(\n",
    "    label_aucs_3,\n",
    "    orient='index',\n",
    "    columns=['macro_AUC']\n",
    "    ).reset_index().rename({'index': 'label_frequency'}, axis=1)\n",
    "label_aucs_3['model'] = f'ModifiedKSI+{model}'\n",
    "\n",
    "label_aucs_4 = pd.DataFrame.from_dict(\n",
    "    label_aucs_4,\n",
    "    orient='index',\n",
    "    columns=['macro_AUC']\n",
    "    ).reset_index().rename({'index': 'label_frequency'}, axis=1)\n",
    "label_aucs_4['model'] = f'ModifiedKSI+{model}, tfidf'\n",
    "\n",
    "label_aucs = pd.concat([label_aucs_1,\n",
    "                        label_aucs_2,\n",
    "                        label_aucs_3,\n",
    "                        label_aucs_4], axis=0)"
   ]
  },
  {
   "cell_type": "code",
   "execution_count": 15,
   "metadata": {},
   "outputs": [
    {
     "data": {
      "image/png": "[encoded data removed]",
      "text/plain": [
       "<Figure size 1080x576 with 1 Axes>"
      ]
     },
     "metadata": {
      "needs_background": "light"
     },
     "output_type": "display_data"
    }
   ],
   "source": [
    "plt.figure(figsize=(15,12))\n",
    "ax = sns.barplot(x='label_frequency', y='macro_AUC', hue='model',\n",
    "                 data=label_aucs)\n",
    "for container in ax.containers:\n",
    "    ax.bar_label(container, fmt='%.3f')"
   ]
  },
  {
   "cell_type": "code",
   "execution_count": 16,
   "metadata": {},
   "outputs": [
    {
     "data": {
      "text/html": [
       "<div>\n",
       "<style scoped>\n",
       "    .dataframe tbody tr th:only-of-type {\n",
       "        vertical-align: middle;\n",
       "    }\n",
       "\n",
       "    .dataframe tbody tr th {\n",
       "        vertical-align: top;\n",
       "    }\n",
       "\n",
       "    .dataframe thead th {\n",
       "        text-align: right;\n",
       "    }\n",
       "</style>\n",
       "<table border=\"1\" class=\"dataframe\">\n",
       "  <thead>\n",
       "    <tr style=\"text-align: right;\">\n",
       "      <th></th>\n",
       "      <th>model</th>\n",
       "      <th>recall_at_k</th>\n",
       "      <th>micro_f1</th>\n",
       "      <th>macro_f1</th>\n",
       "      <th>micro_auc</th>\n",
       "      <th>macro_auc</th>\n",
       "    </tr>\n",
       "  </thead>\n",
       "  <tbody>\n",
       "    <tr>\n",
       "      <th>0</th>\n",
       "      <td>LSTM</td>\n",
       "      <td>0.691393</td>\n",
       "      <td>0.543229</td>\n",
       "      <td>0.087618</td>\n",
       "      <td>0.962676</td>\n",
       "      <td>0.796171</td>\n",
       "    </tr>\n",
       "    <tr>\n",
       "      <th>1</th>\n",
       "      <td>KSI+LSTM</td>\n",
       "      <td>0.767413</td>\n",
       "      <td>0.616200</td>\n",
       "      <td>0.241224</td>\n",
       "      <td>0.973368</td>\n",
       "      <td>0.857588</td>\n",
       "    </tr>\n",
       "    <tr>\n",
       "      <th>2</th>\n",
       "      <td>ModifiedKSI+LSTM</td>\n",
       "      <td>0.762489</td>\n",
       "      <td>0.607922</td>\n",
       "      <td>0.257212</td>\n",
       "      <td>0.973921</td>\n",
       "      <td>0.871118</td>\n",
       "    </tr>\n",
       "    <tr>\n",
       "      <th>3</th>\n",
       "      <td>ModifiedKSI+LSTM, tfidf</td>\n",
       "      <td>0.754548</td>\n",
       "      <td>0.604480</td>\n",
       "      <td>0.259070</td>\n",
       "      <td>0.969793</td>\n",
       "      <td>0.850343</td>\n",
       "    </tr>\n",
       "  </tbody>\n",
       "</table>\n",
       "</div>"
      ],
      "text/plain": [
       "                     model  recall_at_k  micro_f1  macro_f1  micro_auc  \\\n",
       "0                     LSTM     0.691393  0.543229  0.087618   0.962676   \n",
       "1                 KSI+LSTM     0.767413  0.616200  0.241224   0.973368   \n",
       "2         ModifiedKSI+LSTM     0.762489  0.607922  0.257212   0.973921   \n",
       "3  ModifiedKSI+LSTM, tfidf     0.754548  0.604480  0.259070   0.969793   \n",
       "\n",
       "   macro_auc  \n",
       "0   0.796171  \n",
       "1   0.857588  \n",
       "2   0.871118  \n",
       "3   0.850343  "
      ]
     },
     "execution_count": 16,
     "metadata": {},
     "output_type": "execute_result"
    }
   ],
   "source": [
    "metrics = {\n",
    "    'model': [f'{model}', f'KSI+{model}', f'ModifiedKSI+{model}', f'ModifiedKSI+{model}, tfidf'],\n",
    "    'recall_at_k': [recall_at_k_1, recall_at_k_2, recall_at_k_3, recall_at_k_4],\n",
    "    'micro_f1': [micro_f1_1, micro_f1_2, micro_f1_3, micro_f1_4],\n",
    "    'macro_f1': [macro_f1_1, macro_f1_2, macro_f1_3, macro_f1_4],\n",
    "    'micro_auc': [micro_auc_1, micro_auc_2, micro_auc_3, micro_auc_4],\n",
    "    'macro_auc': [macro_auc_1, macro_auc_2, macro_auc_3, macro_auc_4]\n",
    "}\n",
    "metrics = pd.DataFrame.from_dict(metrics)\n",
    "metrics"
   ]
  }
 ],
 "metadata": {
  "interpreter": {
   "hash": "57e07979f6a7af2a0b0e861d549d9c40e5b4b1911b131063753718048dd868ae"
  },
  "kernelspec": {
   "display_name": "Python 3.8.12 ('deepl')",
   "language": "python",
   "name": "python3"
  },
  "language_info": {
   "codemirror_mode": {
    "name": "ipython",
    "version": 3
   },
   "file_extension": ".py",
   "mimetype": "text/x-python",
   "name": "python",
   "nbconvert_exporter": "python",
   "pygments_lexer": "ipython3",
   "version": "3.8.12"
  },
  "orig_nbformat": 4
 },
 "nbformat": 4,
 "nbformat_minor": 2
}
