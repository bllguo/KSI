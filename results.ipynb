{
 "cells": [
  {
   "cell_type": "code",
   "execution_count": 1,
   "metadata": {},
   "outputs": [],
   "source": [
    "import torch\n",
    "import pandas as pd\n",
    "from matplotlib import pyplot as plt\n",
    "import seaborn as sns\n",
    "import os\n",
    "\n",
    "from KSI_models import *\n",
    "from KSI_utils import load_KSI_data, test_model\n",
    "\n",
    "DEVICE = torch.device(\"cuda\" if torch.cuda.is_available() else \"cpu\")"
   ]
  },
  {
   "cell_type": "code",
   "execution_count": 2,
   "metadata": {},
   "outputs": [],
   "source": [
    "model = 'CNN'\n",
    "batch_size = 32\n",
    "init_hidden = False\n",
    "if model in ('LSTM', 'LSTMattn'):\n",
    "    init_hidden = True\n",
    "\n",
    "dir = 'data/original/'\n",
    "label_bins = f'{dir}bin_data.npy'\n",
    "# label_bins = None"
   ]
  },
  {
   "cell_type": "code",
   "execution_count": 3,
   "metadata": {},
   "outputs": [],
   "source": [
    "loaders, wikivec, word_to_ix = load_KSI_data(dir=dir,\n",
    "                                             batch_size=batch_size,\n",
    "                                             train=False,\n",
    "                                             val=False,\n",
    "                                             test=True,\n",
    "                                             device=DEVICE)\n",
    "test_dataloader_orig = loaders['test']\n"
   ]
  },
  {
   "cell_type": "code",
   "execution_count": 4,
   "metadata": {},
   "outputs": [],
   "source": [
    "base_model = torch.load(f'{dir}{model}_model.pt')\n",
    "recall_at_k_1, micro_f1_1, macro_f1_1, micro_auc_1, macro_auc_1, label_aucs_1 = test_model(base_model,\n",
    "                                                                                           test_dataloader_orig,\n",
    "                                                                                           wikivec,\n",
    "                                                                                           label_bins=label_bins,\n",
    "                                                                                           device=DEVICE,\n",
    "                                                                                           init_hidden=init_hidden)\n",
    "del base_model\n",
    "\n",
    "ksi_model = torch.load(f'{dir}{model}_KSI_model.pt')\n",
    "recall_at_k_2, micro_f1_2, macro_f1_2, micro_auc_2, macro_auc_2, label_aucs_2 = test_model(ksi_model,\n",
    "                                                                                           test_dataloader_orig,\n",
    "                                                                                           wikivec,\n",
    "                                                                                           label_bins=label_bins,\n",
    "                                                                                           device=DEVICE,\n",
    "                                                                                           init_hidden=init_hidden)\n",
    "del ksi_model"
   ]
  },
  {
   "cell_type": "code",
   "execution_count": 5,
   "metadata": {},
   "outputs": [],
   "source": [
    "dir = 'data/original_freqs/'\n",
    "loaders, wikivec, word_to_ix = load_KSI_data(dir=dir,\n",
    "                                             batch_size=batch_size,\n",
    "                                             train=False,\n",
    "                                             val=False,\n",
    "                                             test=True,\n",
    "                                             device=DEVICE)\n",
    "test_dataloader_freqs = loaders['test']"
   ]
  },
  {
   "cell_type": "code",
   "execution_count": 6,
   "metadata": {},
   "outputs": [],
   "source": [
    "mod_model = torch.load(f'{dir}{model}_ModifiedKSI_model.pt')\n",
    "recall_at_k_3, micro_f1_3, macro_f1_3, micro_auc_3, macro_auc_3, label_aucs_3 = test_model(mod_model,\n",
    "                                                                                           test_dataloader_freqs,\n",
    "                                                                                           wikivec,\n",
    "                                                                                           label_bins=label_bins,\n",
    "                                                                                           device=DEVICE,\n",
    "                                                                                           init_hidden=init_hidden)\n",
    "del mod_model"
   ]
  },
  {
   "cell_type": "code",
   "execution_count": 7,
   "metadata": {},
   "outputs": [],
   "source": [
    "dir = 'data/original_tfidf/'\n",
    "loaders, wikivec, word_to_ix = load_KSI_data(dir=dir,\n",
    "                                             batch_size=batch_size,\n",
    "                                             train=False,\n",
    "                                             val=False,\n",
    "                                             test=True,\n",
    "                                             device=DEVICE)\n",
    "test_dataloader_freqs = loaders['test']"
   ]
  },
  {
   "cell_type": "code",
   "execution_count": 8,
   "metadata": {},
   "outputs": [],
   "source": [
    "tfidf_model = torch.load(f'{dir}{model}_ModifiedKSI_tfidf_model.pt')\n",
    "recall_at_k_4, micro_f1_4, macro_f1_4, micro_auc_4, macro_auc_4, label_aucs_4 = test_model(tfidf_model,\n",
    "                                                                                           test_dataloader_freqs,\n",
    "                                                                                           wikivec,\n",
    "                                                                                           label_bins=label_bins,\n",
    "                                                                                           device=DEVICE,\n",
    "                                                                                           init_hidden=init_hidden)\n",
    "del tfidf_model"
   ]
  },
  {
   "cell_type": "code",
   "execution_count": 9,
   "metadata": {},
   "outputs": [],
   "source": [
    "label_aucs_1 = pd.DataFrame.from_dict(\n",
    "    label_aucs_1,\n",
    "    orient='index',\n",
    "    columns=['macro_AUC']\n",
    "    ).reset_index().rename({'index': 'label_frequency'}, axis=1)\n",
    "label_aucs_1['model'] = f'{model}'\n",
    "\n",
    "label_aucs_2 = pd.DataFrame.from_dict(\n",
    "    label_aucs_2,\n",
    "    orient='index',\n",
    "    columns=['macro_AUC']\n",
    "    ).reset_index().rename({'index': 'label_frequency'}, axis=1)\n",
    "label_aucs_2['model'] = f'KSI+{model}'\n",
    "\n",
    "label_aucs_3 = pd.DataFrame.from_dict(\n",
    "    label_aucs_3,\n",
    "    orient='index',\n",
    "    columns=['macro_AUC']\n",
    "    ).reset_index().rename({'index': 'label_frequency'}, axis=1)\n",
    "label_aucs_3['model'] = f'ModifiedKSI+{model}'\n",
    "\n",
    "label_aucs_4 = pd.DataFrame.from_dict(\n",
    "    label_aucs_4,\n",
    "    orient='index',\n",
    "    columns=['macro_AUC']\n",
    "    ).reset_index().rename({'index': 'label_frequency'}, axis=1)\n",
    "label_aucs_4['model'] = f'ModifiedKSI+{model}, tfidf'\n",
    "\n",
    "label_aucs = pd.concat([label_aucs_1,\n",
    "                        label_aucs_2,\n",
    "                        label_aucs_3,\n",
    "                        label_aucs_4], axis=0)"
   ]
  },
  {
   "cell_type": "code",
   "execution_count": 10,
   "metadata": {},
   "outputs": [
    {
     "data": {
      "image/png": "[encoded data removed]",
      "text/plain": [
       "<Figure size 1080x648 with 1 Axes>"
      ]
     },
     "metadata": {
      "needs_background": "light"
     },
     "output_type": "display_data"
    }
   ],
   "source": [
    "plt.figure(figsize=(15, 9))\n",
    "ax = sns.barplot(x='label_frequency', y='macro_AUC', hue='model',\n",
    "                 data=label_aucs)\n",
    "plt.legend(loc='lower right')\n",
    "for container in ax.containers:\n",
    "    ax.bar_label(container, fmt='%.3f')\n",
    "os.makedirs('results', exist_ok=True)\n",
    "plt.savefig(f'results/{model}_aucs.png')"
   ]
  },
  {
   "cell_type": "code",
   "execution_count": 11,
   "metadata": {},
   "outputs": [
    {
     "data": {
      "text/html": [
       "<div>\n",
       "<style scoped>\n",
       "    .dataframe tbody tr th:only-of-type {\n",
       "        vertical-align: middle;\n",
       "    }\n",
       "\n",
       "    .dataframe tbody tr th {\n",
       "        vertical-align: top;\n",
       "    }\n",
       "\n",
       "    .dataframe thead th {\n",
       "        text-align: right;\n",
       "    }\n",
       "</style>\n",
       "<table border=\"1\" class=\"dataframe\">\n",
       "  <thead>\n",
       "    <tr style=\"text-align: right;\">\n",
       "      <th></th>\n",
       "      <th>model</th>\n",
       "      <th>recall_at_k</th>\n",
       "      <th>micro_f1</th>\n",
       "      <th>macro_f1</th>\n",
       "      <th>micro_auc</th>\n",
       "      <th>macro_auc</th>\n",
       "    </tr>\n",
       "  </thead>\n",
       "  <tbody>\n",
       "    <tr>\n",
       "      <th>0</th>\n",
       "      <td>CNN</td>\n",
       "      <td>0.795921</td>\n",
       "      <td>0.654957</td>\n",
       "      <td>0.252662</td>\n",
       "      <td>0.975341</td>\n",
       "      <td>0.849977</td>\n",
       "    </tr>\n",
       "    <tr>\n",
       "      <th>1</th>\n",
       "      <td>KSI+CNN</td>\n",
       "      <td>0.794596</td>\n",
       "      <td>0.648176</td>\n",
       "      <td>0.257143</td>\n",
       "      <td>0.977149</td>\n",
       "      <td>0.892318</td>\n",
       "    </tr>\n",
       "    <tr>\n",
       "      <th>2</th>\n",
       "      <td>ModifiedKSI+CNN</td>\n",
       "      <td>0.806644</td>\n",
       "      <td>0.657078</td>\n",
       "      <td>0.302292</td>\n",
       "      <td>0.979864</td>\n",
       "      <td>0.906118</td>\n",
       "    </tr>\n",
       "    <tr>\n",
       "      <th>3</th>\n",
       "      <td>ModifiedKSI+CNN, tfidf</td>\n",
       "      <td>0.805992</td>\n",
       "      <td>0.654831</td>\n",
       "      <td>0.315643</td>\n",
       "      <td>0.979958</td>\n",
       "      <td>0.900311</td>\n",
       "    </tr>\n",
       "  </tbody>\n",
       "</table>\n",
       "</div>"
      ],
      "text/plain": [
       "                    model  recall_at_k  micro_f1  macro_f1  micro_auc  \\\n",
       "0                     CNN     0.795921  0.654957  0.252662   0.975341   \n",
       "1                 KSI+CNN     0.794596  0.648176  0.257143   0.977149   \n",
       "2         ModifiedKSI+CNN     0.806644  0.657078  0.302292   0.979864   \n",
       "3  ModifiedKSI+CNN, tfidf     0.805992  0.654831  0.315643   0.979958   \n",
       "\n",
       "   macro_auc  \n",
       "0   0.849977  \n",
       "1   0.892318  \n",
       "2   0.906118  \n",
       "3   0.900311  "
      ]
     },
     "execution_count": 11,
     "metadata": {},
     "output_type": "execute_result"
    }
   ],
   "source": [
    "metrics = {\n",
    "    'model': [f'{model}', f'KSI+{model}', f'ModifiedKSI+{model}', f'ModifiedKSI+{model}, tfidf'],\n",
    "    'recall_at_k': [recall_at_k_1, recall_at_k_2, recall_at_k_3, recall_at_k_4],\n",
    "    'micro_f1': [micro_f1_1, micro_f1_2, micro_f1_3, micro_f1_4],\n",
    "    'macro_f1': [macro_f1_1, macro_f1_2, macro_f1_3, macro_f1_4],\n",
    "    'micro_auc': [micro_auc_1, micro_auc_2, micro_auc_3, micro_auc_4],\n",
    "    'macro_auc': [macro_auc_1, macro_auc_2, macro_auc_3, macro_auc_4]\n",
    "}\n",
    "metrics = pd.DataFrame.from_dict(metrics)\n",
    "metrics"
   ]
  },
  {
   "cell_type": "code",
   "execution_count": 12,
   "metadata": {},
   "outputs": [
    {
     "name": "stdout",
     "output_type": "stream",
     "text": [
      "\\begin{tabular}{lrrrrr}\n",
      "\\hline\n",
      " CNN                    & 0.795921 & 0.654957 & 0.252662 & 0.975341 & 0.849977 \\\\\n",
      " KSI+CNN                & 0.794596 & 0.648176 & 0.257143 & 0.977149 & 0.892318 \\\\\n",
      " ModifiedKSI+CNN        & 0.806644 & 0.657078 & 0.302292 & 0.979864 & 0.906118 \\\\\n",
      " ModifiedKSI+CNN, tfidf & 0.805992 & 0.654831 & 0.315643 & 0.979958 & 0.900311 \\\\\n",
      "\\hline\n",
      "\\end{tabular}\n"
     ]
    }
   ],
   "source": [
    "from tabulate import tabulate\n",
    "print(tabulate(metrics, tablefmt='latex_raw', showindex=False))"
   ]
  }
 ],
 "metadata": {
  "interpreter": {
   "hash": "57e07979f6a7af2a0b0e861d549d9c40e5b4b1911b131063753718048dd868ae"
  },
  "kernelspec": {
   "display_name": "Python 3.8.12 ('deepl')",
   "language": "python",
   "name": "python3"
  },
  "language_info": {
   "codemirror_mode": {
    "name": "ipython",
    "version": 3
   },
   "file_extension": ".py",
   "mimetype": "text/x-python",
   "name": "python",
   "nbconvert_exporter": "python",
   "pygments_lexer": "ipython3",
   "version": "3.8.12"
  },
  "orig_nbformat": 4
 },
 "nbformat": 4,
 "nbformat_minor": 2
}
