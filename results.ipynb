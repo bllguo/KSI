{
 "cells": [
  {
   "cell_type": "code",
   "execution_count": 1,
   "metadata": {},
   "outputs": [],
   "source": [
    "import torch\n",
    "import pandas as pd\n",
    "from matplotlib import pyplot as plt\n",
    "import seaborn as sns\n",
    "\n",
    "from KSI_models import KSI, ModifiedKSI, CNN\n",
    "from KSI_utils import load_KSI_data, test_model\n",
    "\n",
    "DEVICE = torch.device(\"cuda\" if torch.cuda.is_available() else \"cpu\")"
   ]
  },
  {
   "cell_type": "code",
   "execution_count": 2,
   "metadata": {},
   "outputs": [],
   "source": [
    "batch_size = 32"
   ]
  },
  {
   "cell_type": "code",
   "execution_count": 3,
   "metadata": {},
   "outputs": [],
   "source": [
    "dir = 'data/original/'\n",
    "loaders, wikivec, word_to_ix = load_KSI_data(dir=dir,\n",
    "                                             batch_size=batch_size,\n",
    "                                             train=False,\n",
    "                                             val=False,\n",
    "                                             test=True,\n",
    "                                             device=DEVICE)\n",
    "test_dataloader_orig = loaders['test']\n"
   ]
  },
  {
   "cell_type": "code",
   "execution_count": 4,
   "metadata": {},
   "outputs": [],
   "source": [
    "base_model = torch.load(f'{dir}CNN_model.pt')\n",
    "recall_at_k_1, micro_f1_1, macro_f1_1, micro_auc_1, macro_auc_1, label_aucs_1 = test_model(base_model,\n",
    "                                                                                           test_dataloader_orig,\n",
    "                                                                                           wikivec,\n",
    "                                                                                           by_label=True,\n",
    "                                                                                           device=DEVICE)\n",
    "del base_model\n",
    "\n",
    "ksi_model = torch.load(f'{dir}CNN_KSI_model.pt')\n",
    "recall_at_k_2, micro_f1_2, macro_f1_2, micro_auc_2, macro_auc_2, label_aucs_2 = test_model(ksi_model,\n",
    "                                                                                           test_dataloader_orig,\n",
    "                                                                                           wikivec,\n",
    "                                                                                           by_label=True,\n",
    "                                                                                           device=DEVICE)\n",
    "del ksi_model"
   ]
  },
  {
   "cell_type": "code",
   "execution_count": 5,
   "metadata": {},
   "outputs": [],
   "source": [
    "dir = 'data/original_freqs/'\n",
    "loaders, wikivec, word_to_ix = load_KSI_data(dir=dir,\n",
    "                                             batch_size=batch_size,\n",
    "                                             train=False,\n",
    "                                             val=False,\n",
    "                                             test=True,\n",
    "                                             device=DEVICE)\n",
    "test_dataloader_freqs = loaders['test']"
   ]
  },
  {
   "cell_type": "code",
   "execution_count": 6,
   "metadata": {},
   "outputs": [],
   "source": [
    "mod_model = torch.load(f'{dir}CNN_ModifiedKSI_model.pt')\n",
    "recall_at_k_3, micro_f1_3, macro_f1_3, micro_auc_3, macro_auc_3, label_aucs_3 = test_model(mod_model,\n",
    "                                                                                           test_dataloader_freqs,\n",
    "                                                                                           wikivec,\n",
    "                                                                                           by_label=True,\n",
    "                                                                                           device=DEVICE)\n",
    "del mod_model"
   ]
  },
  {
   "cell_type": "code",
   "execution_count": 7,
   "metadata": {},
   "outputs": [],
   "source": [
    "label_aucs_1 = pd.DataFrame.from_dict(\n",
    "    label_aucs_1,\n",
    "    orient='index',\n",
    "    columns=['macro_AUC']\n",
    "    ).reset_index().rename({'index': 'label_frequency'}, axis=1)\n",
    "label_aucs_1['model'] = 'CNN'\n",
    "\n",
    "label_aucs_2 = pd.DataFrame.from_dict(\n",
    "    label_aucs_2,\n",
    "    orient='index',\n",
    "    columns=['macro_AUC']\n",
    "    ).reset_index().rename({'index': 'label_frequency'}, axis=1)\n",
    "label_aucs_2['model'] = 'KSI+CNN'\n",
    "\n",
    "label_aucs_3 = pd.DataFrame.from_dict(\n",
    "    label_aucs_3,\n",
    "    orient='index',\n",
    "    columns=['macro_AUC']\n",
    "    ).reset_index().rename({'index': 'label_frequency'}, axis=1)\n",
    "label_aucs_3['model'] = 'ModifiedKSI+CNN'\n",
    "\n",
    "label_aucs = pd.concat([label_aucs_1, label_aucs_2, label_aucs_3], axis=0)"
   ]
  },
  {
   "cell_type": "code",
   "execution_count": 8,
   "metadata": {},
   "outputs": [
    {
     "data": {
      "image/png": "[encoded data removed]",
      "text/plain": [
       "<Figure size 1080x576 with 1 Axes>"
      ]
     },
     "metadata": {
      "needs_background": "light"
     },
     "output_type": "display_data"
    }
   ],
   "source": [
    "plt.figure(figsize=(15,8))\n",
    "ax = sns.barplot(x='label_frequency', y='macro_AUC', hue='model',\n",
    "                 data=label_aucs)\n",
    "for container in ax.containers:\n",
    "    ax.bar_label(container)"
   ]
  },
  {
   "cell_type": "code",
   "execution_count": 9,
   "metadata": {},
   "outputs": [
    {
     "data": {
      "text/html": [
       "<div>\n",
       "<style scoped>\n",
       "    .dataframe tbody tr th:only-of-type {\n",
       "        vertical-align: middle;\n",
       "    }\n",
       "\n",
       "    .dataframe tbody tr th {\n",
       "        vertical-align: top;\n",
       "    }\n",
       "\n",
       "    .dataframe thead th {\n",
       "        text-align: right;\n",
       "    }\n",
       "</style>\n",
       "<table border=\"1\" class=\"dataframe\">\n",
       "  <thead>\n",
       "    <tr style=\"text-align: right;\">\n",
       "      <th></th>\n",
       "      <th>model</th>\n",
       "      <th>recall_at_k</th>\n",
       "      <th>micro_f1</th>\n",
       "      <th>macro_f1</th>\n",
       "      <th>micro_auc</th>\n",
       "      <th>macro_auc</th>\n",
       "    </tr>\n",
       "  </thead>\n",
       "  <tbody>\n",
       "    <tr>\n",
       "      <th>0</th>\n",
       "      <td>CNN</td>\n",
       "      <td>0.745498</td>\n",
       "      <td>0.603903</td>\n",
       "      <td>0.156990</td>\n",
       "      <td>0.962170</td>\n",
       "      <td>0.763654</td>\n",
       "    </tr>\n",
       "    <tr>\n",
       "      <th>1</th>\n",
       "      <td>KSI+CNN</td>\n",
       "      <td>0.759551</td>\n",
       "      <td>0.600531</td>\n",
       "      <td>0.220771</td>\n",
       "      <td>0.969542</td>\n",
       "      <td>0.823982</td>\n",
       "    </tr>\n",
       "    <tr>\n",
       "      <th>2</th>\n",
       "      <td>ModifiedKSI+CNN</td>\n",
       "      <td>0.757940</td>\n",
       "      <td>0.601874</td>\n",
       "      <td>0.248182</td>\n",
       "      <td>0.969974</td>\n",
       "      <td>0.827579</td>\n",
       "    </tr>\n",
       "  </tbody>\n",
       "</table>\n",
       "</div>"
      ],
      "text/plain": [
       "             model  recall_at_k  micro_f1  macro_f1  micro_auc  macro_auc\n",
       "0              CNN     0.745498  0.603903  0.156990   0.962170   0.763654\n",
       "1          KSI+CNN     0.759551  0.600531  0.220771   0.969542   0.823982\n",
       "2  ModifiedKSI+CNN     0.757940  0.601874  0.248182   0.969974   0.827579"
      ]
     },
     "execution_count": 9,
     "metadata": {},
     "output_type": "execute_result"
    }
   ],
   "source": [
    "metrics = {\n",
    "    'model': ['CNN', 'KSI+CNN', 'ModifiedKSI+CNN'],\n",
    "    'recall_at_k': [recall_at_k_1, recall_at_k_2, recall_at_k_3],\n",
    "    'micro_f1': [micro_f1_1, micro_f1_2, micro_f1_3],\n",
    "    'macro_f1': [macro_f1_1, macro_f1_2, macro_f1_3],\n",
    "    'micro_auc': [micro_auc_1, micro_auc_2, micro_auc_3],\n",
    "    'macro_auc': [macro_auc_1, macro_auc_2, macro_auc_3]\n",
    "}\n",
    "metrics = pd.DataFrame.from_dict(metrics)\n",
    "metrics"
   ]
  }
 ],
 "metadata": {
  "interpreter": {
   "hash": "57e07979f6a7af2a0b0e861d549d9c40e5b4b1911b131063753718048dd868ae"
  },
  "kernelspec": {
   "display_name": "Python 3.8.12 ('deepl')",
   "language": "python",
   "name": "python3"
  },
  "language_info": {
   "codemirror_mode": {
    "name": "ipython",
    "version": 3
   },
   "file_extension": ".py",
   "mimetype": "text/x-python",
   "name": "python",
   "nbconvert_exporter": "python",
   "pygments_lexer": "ipython3",
   "version": "3.8.12"
  },
  "orig_nbformat": 4
 },
 "nbformat": 4,
 "nbformat_minor": 2
}